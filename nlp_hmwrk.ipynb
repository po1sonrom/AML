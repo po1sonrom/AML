{
 "cells": [
  {
   "cell_type": "markdown",
   "metadata": {},
   "source": [
    "# Домашнее задание\n",
    "## Тема: «Синтаксический анализ и выделение ключевых слов»"
   ]
  },
  {
   "cell_type": "code",
   "execution_count": 1,
   "metadata": {},
   "outputs": [],
   "source": [
    "import json\n",
    "import bz2\n",
    "import regex\n",
    "from tqdm.notebook import tqdm_notebook as tqdm\n",
    "tqdm.pandas()\n",
    "from scipy import sparse\n",
    "import codecs\n",
    "import random"
   ]
  },
  {
   "cell_type": "code",
   "execution_count": 2,
   "metadata": {},
   "outputs": [
    {
     "name": "stdout",
     "output_type": "stream",
     "text": [
      "Populating the interactive namespace from numpy and matplotlib\n"
     ]
    },
    {
     "name": "stderr",
     "output_type": "stream",
     "text": [
      "/opt/anaconda3/lib/python3.8/site-packages/IPython/core/magics/pylab.py:159: UserWarning: pylab import has clobbered these variables: ['random']\n",
      "`%matplotlib` prevents importing * from pylab and numpy\n",
      "  warn(\"pylab import has clobbered these variables: %s\"  % clobbered +\n"
     ]
    }
   ],
   "source": [
    "import pandas as pd\n",
    "import numpy as np\n",
    "import nltk\n",
    "import matplotlib.pyplot as plt\n",
    "import seaborn as sns\n",
    "%matplotlib inline\n",
    "%pylab inline"
   ]
  },
  {
   "cell_type": "code",
   "execution_count": 4,
   "metadata": {},
   "outputs": [
    {
     "name": "stderr",
     "output_type": "stream",
     "text": [
      "201030it [00:40, 4982.80it/s]\n"
     ]
    }
   ],
   "source": [
    "responses = []\n",
    "with bz2.BZ2File('banki_responses.json.bz2', 'r') as thefile:\n",
    "    for row in tqdm(thefile):\n",
    "        resp = json.loads(row)\n",
    "        if not resp['rating_not_checked'] and (len(resp['text'].split()) > 0):\n",
    "            responses.append(resp)"
   ]
  },
  {
   "cell_type": "code",
   "execution_count": 5,
   "metadata": {},
   "outputs": [
    {
     "data": {
      "text/plain": [
       "{'city': 'г. Москва',\n",
       " 'rating_not_checked': False,\n",
       " 'title': 'Ужасное обслуживание',\n",
       " 'num_comments': 1,\n",
       " 'bank_license': 'лицензия № 429',\n",
       " 'author': 'svt2014',\n",
       " 'bank_name': 'Уральский Банк Реконструкции и Развития',\n",
       " 'datetime': '2015-05-29 23:15:56',\n",
       " 'text': 'Сегодня закрывала вклад в Московском отделении Уральского Банка Реконструкции и Развития. Отделение работает с 9.00. Пришла к 10, работает с физическими лицами один менеджер. Очередь человек на 30. В зале все стулья заняты, часть народа гуляет. В 10.45 появилась еще одна девушка и юноша. Занимаются своими делами, очередь на них смотрит. Возмутилась, юноша сообщил, что рабочий день у них с 11, поэтому в свое личное время они могут заниматься своими делами. Прошло еще 45 минут, юноша-начальник смотрит в планшет, обсуждает личные дела с другими знакомыми юношами, никого из очереди не берет. Взорвалась! Выяснилось, что юноша - начальник оказывается может\\xa0обслуживать вкладчиков. Через 1 час 45 минут забрала вклад. Больше в этот банк никогда денег не принесу! Им они не нужны. У них и без вкладчиков интересная жизнь. Если бы не взорвалась, наверное,\\xa0просидела бы\\xa0весь рабочий день!',\n",
       " 'rating_grade': None}"
      ]
     },
     "execution_count": 5,
     "metadata": {},
     "output_type": "execute_result"
    }
   ],
   "source": [
    "responses[404]"
   ]
  },
  {
   "cell_type": "markdown",
   "metadata": {},
   "source": [
    "## Часть 1. Анализ текстов [40/100]"
   ]
  },
  {
   "cell_type": "code",
   "execution_count": 6,
   "metadata": {},
   "outputs": [
    {
     "data": {
      "text/html": [
       "<div>\n",
       "<style scoped>\n",
       "    .dataframe tbody tr th:only-of-type {\n",
       "        vertical-align: middle;\n",
       "    }\n",
       "\n",
       "    .dataframe tbody tr th {\n",
       "        vertical-align: top;\n",
       "    }\n",
       "\n",
       "    .dataframe thead th {\n",
       "        text-align: right;\n",
       "    }\n",
       "</style>\n",
       "<table border=\"1\" class=\"dataframe\">\n",
       "  <thead>\n",
       "    <tr style=\"text-align: right;\">\n",
       "      <th></th>\n",
       "      <th>city</th>\n",
       "      <th>rating_not_checked</th>\n",
       "      <th>title</th>\n",
       "      <th>num_comments</th>\n",
       "      <th>bank_license</th>\n",
       "      <th>author</th>\n",
       "      <th>bank_name</th>\n",
       "      <th>datetime</th>\n",
       "      <th>text</th>\n",
       "      <th>rating_grade</th>\n",
       "    </tr>\n",
       "  </thead>\n",
       "  <tbody>\n",
       "    <tr>\n",
       "      <th>0</th>\n",
       "      <td>г. Москва</td>\n",
       "      <td>False</td>\n",
       "      <td>Жалоба</td>\n",
       "      <td>0</td>\n",
       "      <td>лицензия № 2562</td>\n",
       "      <td>uhnov1</td>\n",
       "      <td>Бинбанк</td>\n",
       "      <td>2015-06-08 12:50:54</td>\n",
       "      <td>Добрый день! Я не являюсь клиентом банка и пор...</td>\n",
       "      <td>NaN</td>\n",
       "    </tr>\n",
       "    <tr>\n",
       "      <th>1</th>\n",
       "      <td>г. Новосибирск</td>\n",
       "      <td>False</td>\n",
       "      <td>Не могу пользоваться услугой Сбербанк он-лайн</td>\n",
       "      <td>0</td>\n",
       "      <td>лицензия № 1481</td>\n",
       "      <td>Foryou</td>\n",
       "      <td>Сбербанк России</td>\n",
       "      <td>2015-06-08 11:09:57</td>\n",
       "      <td>Доброго дня! Являюсь держателем зарплатной кар...</td>\n",
       "      <td>NaN</td>\n",
       "    </tr>\n",
       "    <tr>\n",
       "      <th>2</th>\n",
       "      <td>г. Москва</td>\n",
       "      <td>False</td>\n",
       "      <td>Двойное списание за один товар.</td>\n",
       "      <td>1</td>\n",
       "      <td>лицензия № 2562</td>\n",
       "      <td>Vladimir84</td>\n",
       "      <td>Бинбанк</td>\n",
       "      <td>2015-06-05 20:14:28</td>\n",
       "      <td>Здравствуйте!  Дублирую свое заявление от 03.0...</td>\n",
       "      <td>NaN</td>\n",
       "    </tr>\n",
       "  </tbody>\n",
       "</table>\n",
       "</div>"
      ],
      "text/plain": [
       "             city  rating_not_checked  \\\n",
       "0       г. Москва               False   \n",
       "1  г. Новосибирск               False   \n",
       "2       г. Москва               False   \n",
       "\n",
       "                                           title  num_comments  \\\n",
       "0                                         Жалоба             0   \n",
       "1  Не могу пользоваться услугой Сбербанк он-лайн             0   \n",
       "2                Двойное списание за один товар.             1   \n",
       "\n",
       "      bank_license      author        bank_name             datetime  \\\n",
       "0  лицензия № 2562      uhnov1          Бинбанк  2015-06-08 12:50:54   \n",
       "1  лицензия № 1481      Foryou  Сбербанк России  2015-06-08 11:09:57   \n",
       "2  лицензия № 2562  Vladimir84          Бинбанк  2015-06-05 20:14:28   \n",
       "\n",
       "                                                text  rating_grade  \n",
       "0  Добрый день! Я не являюсь клиентом банка и пор...           NaN  \n",
       "1  Доброго дня! Являюсь держателем зарплатной кар...           NaN  \n",
       "2  Здравствуйте!  Дублирую свое заявление от 03.0...           NaN  "
      ]
     },
     "execution_count": 6,
     "metadata": {},
     "output_type": "execute_result"
    }
   ],
   "source": [
    "df = pd.DataFrame(responses)\n",
    "df.head(3)"
   ]
  },
  {
   "cell_type": "code",
   "execution_count": 7,
   "metadata": {},
   "outputs": [
    {
     "name": "stdout",
     "output_type": "stream",
     "text": [
      "<class 'pandas.core.frame.DataFrame'>\n",
      "RangeIndex: 153499 entries, 0 to 153498\n",
      "Data columns (total 10 columns):\n",
      " #   Column              Non-Null Count   Dtype  \n",
      "---  ------              --------------   -----  \n",
      " 0   city                138325 non-null  object \n",
      " 1   rating_not_checked  153499 non-null  bool   \n",
      " 2   title               153499 non-null  object \n",
      " 3   num_comments        153499 non-null  int64  \n",
      " 4   bank_license        153498 non-null  object \n",
      " 5   author              153479 non-null  object \n",
      " 6   bank_name           153499 non-null  object \n",
      " 7   datetime            153499 non-null  object \n",
      " 8   text                153499 non-null  object \n",
      " 9   rating_grade        88658 non-null   float64\n",
      "dtypes: bool(1), float64(1), int64(1), object(7)\n",
      "memory usage: 10.7+ MB\n"
     ]
    }
   ],
   "source": [
    "df.info()"
   ]
  },
  {
   "cell_type": "markdown",
   "metadata": {},
   "source": [
    "Наблюдения без рейтинга удаляем"
   ]
  },
  {
   "cell_type": "code",
   "execution_count": 8,
   "metadata": {},
   "outputs": [
    {
     "data": {
      "text/plain": [
       "(88658, 10)"
      ]
     },
     "execution_count": 8,
     "metadata": {},
     "output_type": "execute_result"
    }
   ],
   "source": [
    "df.dropna(subset=['rating_grade'], inplace = True)\n",
    "df.shape"
   ]
  },
  {
   "cell_type": "markdown",
   "metadata": {},
   "source": [
    "**1. Посчитайте количество отзывов в разных городах и на разные банки**"
   ]
  },
  {
   "cell_type": "code",
   "execution_count": 9,
   "metadata": {},
   "outputs": [],
   "source": [
    "cities=df.groupby(['city']).count()['text'].sort_values( ascending=False).head(29)\n",
    "banks=df.groupby(['bank_name']).count()['text'].sort_values( ascending=False).head(29)"
   ]
  },
  {
   "cell_type": "markdown",
   "metadata": {},
   "source": [
    "По банкам"
   ]
  },
  {
   "cell_type": "code",
   "execution_count": 10,
   "metadata": {},
   "outputs": [
    {
     "data": {
      "text/plain": [
       "Text(0.5, 0, 'Количество отзывов по банкам')"
      ]
     },
     "execution_count": 10,
     "metadata": {},
     "output_type": "execute_result"
    },
    {
     "data": {
      "image/png": "[encoded data removed]",
      "text/plain": [
       "<Figure size 432x288 with 1 Axes>"
      ]
     },
     "metadata": {
      "needs_background": "light"
     },
     "output_type": "display_data"
    }
   ],
   "source": [
    "plt.barh(banks.index[::-1],banks.values[::-1])\n",
    "plt.grid( linestyle='-.', linewidth=0.2)\n",
    "plt.xlabel('Количество отзывов по банкам')"
   ]
  },
  {
   "cell_type": "markdown",
   "metadata": {},
   "source": [
    "По городам"
   ]
  },
  {
   "cell_type": "code",
   "execution_count": 11,
   "metadata": {},
   "outputs": [
    {
     "data": {
      "text/plain": [
       "Text(0.5, 0, 'Количество отзывов по городам')"
      ]
     },
     "execution_count": 11,
     "metadata": {},
     "output_type": "execute_result"
    },
    {
     "data": {
      "image/png": "[encoded data removed]",
      "text/plain": [
       "<Figure size 432x288 with 1 Axes>"
      ]
     },
     "metadata": {
      "needs_background": "light"
     },
     "output_type": "display_data"
    }
   ],
   "source": [
    "plt.barh(cities.index[::-1],cities.values[::-1])\n",
    "plt.grid( linestyle='-.', linewidth=0.2)\n",
    "plt.xlabel('Количество отзывов по городам')"
   ]
  },
  {
   "cell_type": "markdown",
   "metadata": {},
   "source": [
    "**2. Постройте гистограмы длин слов в символах и в словах**"
   ]
  },
  {
   "cell_type": "markdown",
   "metadata": {},
   "source": [
    "В символах"
   ]
  },
  {
   "cell_type": "code",
   "execution_count": 12,
   "metadata": {},
   "outputs": [
    {
     "data": {
      "application/vnd.jupyter.widget-view+json": {
       "model_id": "ce4825af77d543099ad75fcf3dce5b19",
       "version_major": 2,
       "version_minor": 0
      },
      "text/plain": [
       "HBox(children=(HTML(value=''), FloatProgress(value=0.0, max=88658.0), HTML(value='')))"
      ]
     },
     "metadata": {},
     "output_type": "display_data"
    },
    {
     "name": "stdout",
     "output_type": "stream",
     "text": [
      "\n"
     ]
    },
    {
     "data": {
      "text/html": [
       "<div>\n",
       "<style scoped>\n",
       "    .dataframe tbody tr th:only-of-type {\n",
       "        vertical-align: middle;\n",
       "    }\n",
       "\n",
       "    .dataframe tbody tr th {\n",
       "        vertical-align: top;\n",
       "    }\n",
       "\n",
       "    .dataframe thead th {\n",
       "        text-align: right;\n",
       "    }\n",
       "</style>\n",
       "<table border=\"1\" class=\"dataframe\">\n",
       "  <thead>\n",
       "    <tr style=\"text-align: right;\">\n",
       "      <th></th>\n",
       "      <th>city</th>\n",
       "      <th>rating_not_checked</th>\n",
       "      <th>title</th>\n",
       "      <th>num_comments</th>\n",
       "      <th>bank_license</th>\n",
       "      <th>author</th>\n",
       "      <th>bank_name</th>\n",
       "      <th>datetime</th>\n",
       "      <th>text</th>\n",
       "      <th>rating_grade</th>\n",
       "      <th>text_len</th>\n",
       "    </tr>\n",
       "  </thead>\n",
       "  <tbody>\n",
       "    <tr>\n",
       "      <th>49155</th>\n",
       "      <td>г. Сафоново</td>\n",
       "      <td>False</td>\n",
       "      <td>Хамство и унижение посетителей</td>\n",
       "      <td>5</td>\n",
       "      <td>лицензия № 1481</td>\n",
       "      <td>Ден22ден</td>\n",
       "      <td>Сбербанк России</td>\n",
       "      <td>2014-04-27 18:37:00</td>\n",
       "      <td>Доброго времени суток. Я, Ливанцов Денис Анато...</td>\n",
       "      <td>1.0</td>\n",
       "      <td>32082</td>\n",
       "    </tr>\n",
       "    <tr>\n",
       "      <th>118257</th>\n",
       "      <td>г. Москва</td>\n",
       "      <td>False</td>\n",
       "      <td>Личный (и печальный) опыт попытки оспорить мош...</td>\n",
       "      <td>26</td>\n",
       "      <td>лицензия № 3292</td>\n",
       "      <td>cybernatic-cat</td>\n",
       "      <td>Райффайзенбанк</td>\n",
       "      <td>2011-10-18 21:57:00</td>\n",
       "      <td>Весь пост (крайне объёмный) опубликован мной в...</td>\n",
       "      <td>2.0</td>\n",
       "      <td>29679</td>\n",
       "    </tr>\n",
       "    <tr>\n",
       "      <th>26023</th>\n",
       "      <td>г. Москва</td>\n",
       "      <td>False</td>\n",
       "      <td></td>\n",
       "      <td>12</td>\n",
       "      <td>лицензия № 2748</td>\n",
       "      <td>ileon</td>\n",
       "      <td>Банк Москвы</td>\n",
       "      <td>2014-11-22 20:04:00</td>\n",
       "      <td>Как и обещал в своем предыдущем отзыве от 29 о...</td>\n",
       "      <td>1.0</td>\n",
       "      <td>27364</td>\n",
       "    </tr>\n",
       "    <tr>\n",
       "      <th>38104</th>\n",
       "      <td>г. Москва</td>\n",
       "      <td>False</td>\n",
       "      <td></td>\n",
       "      <td>5</td>\n",
       "      <td>лицензия № 1481</td>\n",
       "      <td>Knever</td>\n",
       "      <td>Сбербанк России</td>\n",
       "      <td>2014-08-08 15:04:00</td>\n",
       "      <td>Введение оно же вывод. Данный отзыв содержит к...</td>\n",
       "      <td>1.0</td>\n",
       "      <td>27220</td>\n",
       "    </tr>\n",
       "    <tr>\n",
       "      <th>86611</th>\n",
       "      <td>г. Москва</td>\n",
       "      <td>False</td>\n",
       "      <td>Больше нет причин, которые бы меня держали в э...</td>\n",
       "      <td>14</td>\n",
       "      <td>лицензия № 1326</td>\n",
       "      <td>iSavaDev</td>\n",
       "      <td>Альфа-Банк</td>\n",
       "      <td>2013-04-06 21:49:00</td>\n",
       "      <td>История за 10 лет... Напишу кратко (это действ...</td>\n",
       "      <td>1.0</td>\n",
       "      <td>24604</td>\n",
       "    </tr>\n",
       "    <tr>\n",
       "      <th>...</th>\n",
       "      <td>...</td>\n",
       "      <td>...</td>\n",
       "      <td>...</td>\n",
       "      <td>...</td>\n",
       "      <td>...</td>\n",
       "      <td>...</td>\n",
       "      <td>...</td>\n",
       "      <td>...</td>\n",
       "      <td>...</td>\n",
       "      <td>...</td>\n",
       "      <td>...</td>\n",
       "    </tr>\n",
       "    <tr>\n",
       "      <th>148794</th>\n",
       "      <td>None</td>\n",
       "      <td>False</td>\n",
       "      <td>Не отвечают по своим обязательствам</td>\n",
       "      <td>3</td>\n",
       "      <td>лицензия № 3392 (отозвана)</td>\n",
       "      <td>Kosta-1</td>\n",
       "      <td>Городской Клиентский</td>\n",
       "      <td>2006-12-18 22:34:00</td>\n",
       "      <td>Не проводят платежи уже 3 недели. Говорят, нет...</td>\n",
       "      <td>1.0</td>\n",
       "      <td>53</td>\n",
       "    </tr>\n",
       "    <tr>\n",
       "      <th>152261</th>\n",
       "      <td>None</td>\n",
       "      <td>False</td>\n",
       "      <td>Хороший банк</td>\n",
       "      <td>0</td>\n",
       "      <td>лицензия № 2291</td>\n",
       "      <td>Sergey</td>\n",
       "      <td>ИМПЭКСБанк</td>\n",
       "      <td>2005-09-23 19:05:00</td>\n",
       "      <td>Быстро получил 150.000 без каких-либо проблем.</td>\n",
       "      <td>5.0</td>\n",
       "      <td>46</td>\n",
       "    </tr>\n",
       "    <tr>\n",
       "      <th>151714</th>\n",
       "      <td>None</td>\n",
       "      <td>False</td>\n",
       "      <td>Отказ от валютообменных операций</td>\n",
       "      <td>0</td>\n",
       "      <td>лицензия № 2575 (отозвана)</td>\n",
       "      <td>Василий</td>\n",
       "      <td>Форпост</td>\n",
       "      <td>2005-11-30 14:38:00</td>\n",
       "      <td>Банк больше не работает с обменниками..</td>\n",
       "      <td>3.0</td>\n",
       "      <td>39</td>\n",
       "    </tr>\n",
       "    <tr>\n",
       "      <th>152684</th>\n",
       "      <td>None</td>\n",
       "      <td>False</td>\n",
       "      <td>Долго делают карту</td>\n",
       "      <td>0</td>\n",
       "      <td>лицензия № 2562</td>\n",
       "      <td>клиент</td>\n",
       "      <td>Бинбанк</td>\n",
       "      <td>2005-06-29 16:39:00</td>\n",
       "      <td>Делают карту VISA почти 3 недели...</td>\n",
       "      <td>1.0</td>\n",
       "      <td>35</td>\n",
       "    </tr>\n",
       "    <tr>\n",
       "      <th>153286</th>\n",
       "      <td>None</td>\n",
       "      <td>False</td>\n",
       "      <td>Охранники</td>\n",
       "      <td>0</td>\n",
       "      <td>лицензия № 828 (аннулирована)</td>\n",
       "      <td>угу</td>\n",
       "      <td>Ярсоцбанк</td>\n",
       "      <td>2005-04-28 15:01:00</td>\n",
       "      <td>Охранники у банка слишком злые.</td>\n",
       "      <td>3.0</td>\n",
       "      <td>31</td>\n",
       "    </tr>\n",
       "  </tbody>\n",
       "</table>\n",
       "<p>88658 rows × 11 columns</p>\n",
       "</div>"
      ],
      "text/plain": [
       "               city  rating_not_checked  \\\n",
       "49155   г. Сафоново               False   \n",
       "118257    г. Москва               False   \n",
       "26023     г. Москва               False   \n",
       "38104     г. Москва               False   \n",
       "86611     г. Москва               False   \n",
       "...             ...                 ...   \n",
       "148794         None               False   \n",
       "152261         None               False   \n",
       "151714         None               False   \n",
       "152684         None               False   \n",
       "153286         None               False   \n",
       "\n",
       "                                                    title  num_comments  \\\n",
       "49155                      Хамство и унижение посетителей             5   \n",
       "118257  Личный (и печальный) опыт попытки оспорить мош...            26   \n",
       "26023                                                                12   \n",
       "38104                                                                 5   \n",
       "86611   Больше нет причин, которые бы меня держали в э...            14   \n",
       "...                                                   ...           ...   \n",
       "148794                Не отвечают по своим обязательствам             3   \n",
       "152261                                       Хороший банк             0   \n",
       "151714                   Отказ от валютообменных операций             0   \n",
       "152684                                 Долго делают карту             0   \n",
       "153286                                          Охранники             0   \n",
       "\n",
       "                         bank_license          author             bank_name  \\\n",
       "49155                 лицензия № 1481        Ден22ден       Сбербанк России   \n",
       "118257                лицензия № 3292  cybernatic-cat        Райффайзенбанк   \n",
       "26023                 лицензия № 2748           ileon           Банк Москвы   \n",
       "38104                 лицензия № 1481          Knever       Сбербанк России   \n",
       "86611                 лицензия № 1326        iSavaDev            Альфа-Банк   \n",
       "...                               ...             ...                   ...   \n",
       "148794     лицензия № 3392 (отозвана)         Kosta-1  Городской Клиентский   \n",
       "152261                лицензия № 2291          Sergey            ИМПЭКСБанк   \n",
       "151714     лицензия № 2575 (отозвана)         Василий               Форпост   \n",
       "152684                лицензия № 2562          клиент               Бинбанк   \n",
       "153286  лицензия № 828 (аннулирована)             угу             Ярсоцбанк   \n",
       "\n",
       "                   datetime  \\\n",
       "49155   2014-04-27 18:37:00   \n",
       "118257  2011-10-18 21:57:00   \n",
       "26023   2014-11-22 20:04:00   \n",
       "38104   2014-08-08 15:04:00   \n",
       "86611   2013-04-06 21:49:00   \n",
       "...                     ...   \n",
       "148794  2006-12-18 22:34:00   \n",
       "152261  2005-09-23 19:05:00   \n",
       "151714  2005-11-30 14:38:00   \n",
       "152684  2005-06-29 16:39:00   \n",
       "153286  2005-04-28 15:01:00   \n",
       "\n",
       "                                                     text  rating_grade  \\\n",
       "49155   Доброго времени суток. Я, Ливанцов Денис Анато...           1.0   \n",
       "118257  Весь пост (крайне объёмный) опубликован мной в...           2.0   \n",
       "26023   Как и обещал в своем предыдущем отзыве от 29 о...           1.0   \n",
       "38104   Введение оно же вывод. Данный отзыв содержит к...           1.0   \n",
       "86611   История за 10 лет... Напишу кратко (это действ...           1.0   \n",
       "...                                                   ...           ...   \n",
       "148794  Не проводят платежи уже 3 недели. Говорят, нет...           1.0   \n",
       "152261     Быстро получил 150.000 без каких-либо проблем.           5.0   \n",
       "151714            Банк больше не работает с обменниками..           3.0   \n",
       "152684                Делают карту VISA почти 3 недели...           1.0   \n",
       "153286                    Охранники у банка слишком злые.           3.0   \n",
       "\n",
       "        text_len  \n",
       "49155      32082  \n",
       "118257     29679  \n",
       "26023      27364  \n",
       "38104      27220  \n",
       "86611      24604  \n",
       "...          ...  \n",
       "148794        53  \n",
       "152261        46  \n",
       "151714        39  \n",
       "152684        35  \n",
       "153286        31  \n",
       "\n",
       "[88658 rows x 11 columns]"
      ]
     },
     "execution_count": 12,
     "metadata": {},
     "output_type": "execute_result"
    }
   ],
   "source": [
    "df['text_len'] = df['text'].progress_apply(len)\n",
    "df.sort_values(by=\"text_len\", ascending=False)"
   ]
  },
  {
   "cell_type": "code",
   "execution_count": 13,
   "metadata": {},
   "outputs": [
    {
     "data": {
      "text/plain": [
       "<AxesSubplot:>"
      ]
     },
     "execution_count": 13,
     "metadata": {},
     "output_type": "execute_result"
    },
    {
     "data": {
      "image/png": "[encoded data removed]",
      "text/plain": [
       "<Figure size 432x288 with 1 Axes>"
      ]
     },
     "metadata": {
      "needs_background": "light"
     },
     "output_type": "display_data"
    }
   ],
   "source": [
    "df['text_len'].hist(bins=20)"
   ]
  },
  {
   "cell_type": "code",
   "execution_count": 14,
   "metadata": {},
   "outputs": [
    {
     "data": {
      "text/plain": [
       "count    88658.000000\n",
       "mean      1718.655711\n",
       "std       1387.903005\n",
       "min         31.000000\n",
       "25%        852.000000\n",
       "50%       1345.000000\n",
       "75%       2131.000000\n",
       "max      32082.000000\n",
       "Name: text_len, dtype: float64"
      ]
     },
     "execution_count": 14,
     "metadata": {},
     "output_type": "execute_result"
    }
   ],
   "source": [
    "df['text_len'].describe()"
   ]
  },
  {
   "cell_type": "markdown",
   "metadata": {},
   "source": [
    "В словах"
   ]
  },
  {
   "cell_type": "code",
   "execution_count": 15,
   "metadata": {},
   "outputs": [],
   "source": [
    "import re\n",
    "regex = re.compile(\"[а-я]+\")\n",
    "\n",
    "def words_only(text, regex=regex):\n",
    "    try:\n",
    "        return \" \".join(regex.findall(text))\n",
    "    except:\n",
    "        return \"\""
   ]
  },
  {
   "cell_type": "code",
   "execution_count": 16,
   "metadata": {},
   "outputs": [
    {
     "data": {
      "application/vnd.jupyter.widget-view+json": {
       "model_id": "8d66ba27f1994cc1bddb9f652466cb51",
       "version_major": 2,
       "version_minor": 0
      },
      "text/plain": [
       "HBox(children=(HTML(value=''), FloatProgress(value=0.0, max=88658.0), HTML(value='')))"
      ]
     },
     "metadata": {},
     "output_type": "display_data"
    },
    {
     "name": "stdout",
     "output_type": "stream",
     "text": [
      "\n"
     ]
    },
    {
     "data": {
      "text/html": [
       "<div>\n",
       "<style scoped>\n",
       "    .dataframe tbody tr th:only-of-type {\n",
       "        vertical-align: middle;\n",
       "    }\n",
       "\n",
       "    .dataframe tbody tr th {\n",
       "        vertical-align: top;\n",
       "    }\n",
       "\n",
       "    .dataframe thead th {\n",
       "        text-align: right;\n",
       "    }\n",
       "</style>\n",
       "<table border=\"1\" class=\"dataframe\">\n",
       "  <thead>\n",
       "    <tr style=\"text-align: right;\">\n",
       "      <th></th>\n",
       "      <th>city</th>\n",
       "      <th>rating_not_checked</th>\n",
       "      <th>title</th>\n",
       "      <th>num_comments</th>\n",
       "      <th>bank_license</th>\n",
       "      <th>author</th>\n",
       "      <th>bank_name</th>\n",
       "      <th>datetime</th>\n",
       "      <th>text</th>\n",
       "      <th>rating_grade</th>\n",
       "      <th>text_len</th>\n",
       "      <th>text_words</th>\n",
       "    </tr>\n",
       "  </thead>\n",
       "  <tbody>\n",
       "    <tr>\n",
       "      <th>14</th>\n",
       "      <td>г. Москва</td>\n",
       "      <td>False</td>\n",
       "      <td>В Шоке</td>\n",
       "      <td>0</td>\n",
       "      <td>лицензия № 2673</td>\n",
       "      <td>yura1189</td>\n",
       "      <td>Тинькофф Банк</td>\n",
       "      <td>2015-06-05 13:52:40</td>\n",
       "      <td>Также как и многие давний клиент банка, был до...</td>\n",
       "      <td>2.0</td>\n",
       "      <td>1649</td>\n",
       "      <td>также как и многие давний клиент банка был дов...</td>\n",
       "    </tr>\n",
       "    <tr>\n",
       "      <th>19</th>\n",
       "      <td>г. Москва</td>\n",
       "      <td>False</td>\n",
       "      <td>Некомпетентность сотрудников банка</td>\n",
       "      <td>2</td>\n",
       "      <td>лицензия № 1481</td>\n",
       "      <td>agelun</td>\n",
       "      <td>Сбербанк России</td>\n",
       "      <td>2015-06-05 15:00:54</td>\n",
       "      <td>Открыт вклад и счет в USD. Плюс к этому есть з...</td>\n",
       "      <td>1.0</td>\n",
       "      <td>2214</td>\n",
       "      <td>открыт вклад и счет в плюс к этому есть зарпла...</td>\n",
       "    </tr>\n",
       "    <tr>\n",
       "      <th>33</th>\n",
       "      <td>г. Ростов-на-Дону</td>\n",
       "      <td>False</td>\n",
       "      <td>Навязывание страховки</td>\n",
       "      <td>1</td>\n",
       "      <td>лицензия № 1481</td>\n",
       "      <td>Joker888</td>\n",
       "      <td>Сбербанк России</td>\n",
       "      <td>2015-06-05 21:35:40</td>\n",
       "      <td>Доброго времени! Вчера мне поступило смс-уведо...</td>\n",
       "      <td>1.0</td>\n",
       "      <td>2159</td>\n",
       "      <td>доброго времени вчера мне поступило смс уведом...</td>\n",
       "    </tr>\n",
       "  </tbody>\n",
       "</table>\n",
       "</div>"
      ],
      "text/plain": [
       "                 city  rating_not_checked                               title  \\\n",
       "14          г. Москва               False                              В Шоке   \n",
       "19          г. Москва               False  Некомпетентность сотрудников банка   \n",
       "33  г. Ростов-на-Дону               False               Навязывание страховки   \n",
       "\n",
       "    num_comments     bank_license    author        bank_name  \\\n",
       "14             0  лицензия № 2673  yura1189    Тинькофф Банк   \n",
       "19             2  лицензия № 1481    agelun  Сбербанк России   \n",
       "33             1  лицензия № 1481  Joker888  Сбербанк России   \n",
       "\n",
       "               datetime                                               text  \\\n",
       "14  2015-06-05 13:52:40  Также как и многие давний клиент банка, был до...   \n",
       "19  2015-06-05 15:00:54  Открыт вклад и счет в USD. Плюс к этому есть з...   \n",
       "33  2015-06-05 21:35:40  Доброго времени! Вчера мне поступило смс-уведо...   \n",
       "\n",
       "    rating_grade  text_len                                         text_words  \n",
       "14           2.0      1649  также как и многие давний клиент банка был дов...  \n",
       "19           1.0      2214  открыт вклад и счет в плюс к этому есть зарпла...  \n",
       "33           1.0      2159  доброго времени вчера мне поступило смс уведом...  "
      ]
     },
     "execution_count": 16,
     "metadata": {},
     "output_type": "execute_result"
    }
   ],
   "source": [
    "df['text_words'] = df['text'].str.lower().progress_apply(words_only)\n",
    "df.head(3)"
   ]
  },
  {
   "cell_type": "code",
   "execution_count": 17,
   "metadata": {},
   "outputs": [
    {
     "data": {
      "application/vnd.jupyter.widget-view+json": {
       "model_id": "6e863133b37a471b933a1bd5cc5ffea4",
       "version_major": 2,
       "version_minor": 0
      },
      "text/plain": [
       "HBox(children=(HTML(value=''), FloatProgress(value=0.0, max=88658.0), HTML(value='')))"
      ]
     },
     "metadata": {},
     "output_type": "display_data"
    },
    {
     "name": "stdout",
     "output_type": "stream",
     "text": [
      "\n"
     ]
    },
    {
     "data": {
      "text/html": [
       "<div>\n",
       "<style scoped>\n",
       "    .dataframe tbody tr th:only-of-type {\n",
       "        vertical-align: middle;\n",
       "    }\n",
       "\n",
       "    .dataframe tbody tr th {\n",
       "        vertical-align: top;\n",
       "    }\n",
       "\n",
       "    .dataframe thead th {\n",
       "        text-align: right;\n",
       "    }\n",
       "</style>\n",
       "<table border=\"1\" class=\"dataframe\">\n",
       "  <thead>\n",
       "    <tr style=\"text-align: right;\">\n",
       "      <th></th>\n",
       "      <th>city</th>\n",
       "      <th>rating_not_checked</th>\n",
       "      <th>title</th>\n",
       "      <th>num_comments</th>\n",
       "      <th>bank_license</th>\n",
       "      <th>author</th>\n",
       "      <th>bank_name</th>\n",
       "      <th>datetime</th>\n",
       "      <th>text</th>\n",
       "      <th>rating_grade</th>\n",
       "      <th>text_len</th>\n",
       "      <th>text_words</th>\n",
       "      <th>words_count</th>\n",
       "    </tr>\n",
       "  </thead>\n",
       "  <tbody>\n",
       "    <tr>\n",
       "      <th>49155</th>\n",
       "      <td>г. Сафоново</td>\n",
       "      <td>False</td>\n",
       "      <td>Хамство и унижение посетителей</td>\n",
       "      <td>5</td>\n",
       "      <td>лицензия № 1481</td>\n",
       "      <td>Ден22ден</td>\n",
       "      <td>Сбербанк России</td>\n",
       "      <td>2014-04-27 18:37:00</td>\n",
       "      <td>Доброго времени суток. Я, Ливанцов Денис Анато...</td>\n",
       "      <td>1.0</td>\n",
       "      <td>32082</td>\n",
       "      <td>доброго времени суток я ливанцов денис анатоль...</td>\n",
       "      <td>5001</td>\n",
       "    </tr>\n",
       "    <tr>\n",
       "      <th>118257</th>\n",
       "      <td>г. Москва</td>\n",
       "      <td>False</td>\n",
       "      <td>Личный (и печальный) опыт попытки оспорить мош...</td>\n",
       "      <td>26</td>\n",
       "      <td>лицензия № 3292</td>\n",
       "      <td>cybernatic-cat</td>\n",
       "      <td>Райффайзенбанк</td>\n",
       "      <td>2011-10-18 21:57:00</td>\n",
       "      <td>Весь пост (крайне объёмный) опубликован мной в...</td>\n",
       "      <td>2.0</td>\n",
       "      <td>29679</td>\n",
       "      <td>весь пост крайне объ мный опубликован мной в ж...</td>\n",
       "      <td>4099</td>\n",
       "    </tr>\n",
       "    <tr>\n",
       "      <th>38104</th>\n",
       "      <td>г. Москва</td>\n",
       "      <td>False</td>\n",
       "      <td></td>\n",
       "      <td>5</td>\n",
       "      <td>лицензия № 1481</td>\n",
       "      <td>Knever</td>\n",
       "      <td>Сбербанк России</td>\n",
       "      <td>2014-08-08 15:04:00</td>\n",
       "      <td>Введение оно же вывод. Данный отзыв содержит к...</td>\n",
       "      <td>1.0</td>\n",
       "      <td>27220</td>\n",
       "      <td>введение оно же вывод данный отзыв содержит кр...</td>\n",
       "      <td>4021</td>\n",
       "    </tr>\n",
       "    <tr>\n",
       "      <th>86611</th>\n",
       "      <td>г. Москва</td>\n",
       "      <td>False</td>\n",
       "      <td>Больше нет причин, которые бы меня держали в э...</td>\n",
       "      <td>14</td>\n",
       "      <td>лицензия № 1326</td>\n",
       "      <td>iSavaDev</td>\n",
       "      <td>Альфа-Банк</td>\n",
       "      <td>2013-04-06 21:49:00</td>\n",
       "      <td>История за 10 лет... Напишу кратко (это действ...</td>\n",
       "      <td>1.0</td>\n",
       "      <td>24604</td>\n",
       "      <td>история за лет напишу кратко это действительно...</td>\n",
       "      <td>3939</td>\n",
       "    </tr>\n",
       "    <tr>\n",
       "      <th>26023</th>\n",
       "      <td>г. Москва</td>\n",
       "      <td>False</td>\n",
       "      <td></td>\n",
       "      <td>12</td>\n",
       "      <td>лицензия № 2748</td>\n",
       "      <td>ileon</td>\n",
       "      <td>Банк Москвы</td>\n",
       "      <td>2014-11-22 20:04:00</td>\n",
       "      <td>Как и обещал в своем предыдущем отзыве от 29 о...</td>\n",
       "      <td>1.0</td>\n",
       "      <td>27364</td>\n",
       "      <td>как и обещал в своем предыдущем отзыве от октя...</td>\n",
       "      <td>3557</td>\n",
       "    </tr>\n",
       "    <tr>\n",
       "      <th>...</th>\n",
       "      <td>...</td>\n",
       "      <td>...</td>\n",
       "      <td>...</td>\n",
       "      <td>...</td>\n",
       "      <td>...</td>\n",
       "      <td>...</td>\n",
       "      <td>...</td>\n",
       "      <td>...</td>\n",
       "      <td>...</td>\n",
       "      <td>...</td>\n",
       "      <td>...</td>\n",
       "      <td>...</td>\n",
       "      <td>...</td>\n",
       "    </tr>\n",
       "    <tr>\n",
       "      <th>152261</th>\n",
       "      <td>None</td>\n",
       "      <td>False</td>\n",
       "      <td>Хороший банк</td>\n",
       "      <td>0</td>\n",
       "      <td>лицензия № 2291</td>\n",
       "      <td>Sergey</td>\n",
       "      <td>ИМПЭКСБанк</td>\n",
       "      <td>2005-09-23 19:05:00</td>\n",
       "      <td>Быстро получил 150.000 без каких-либо проблем.</td>\n",
       "      <td>5.0</td>\n",
       "      <td>46</td>\n",
       "      <td>быстро получил без каких либо проблем</td>\n",
       "      <td>6</td>\n",
       "    </tr>\n",
       "    <tr>\n",
       "      <th>151714</th>\n",
       "      <td>None</td>\n",
       "      <td>False</td>\n",
       "      <td>Отказ от валютообменных операций</td>\n",
       "      <td>0</td>\n",
       "      <td>лицензия № 2575 (отозвана)</td>\n",
       "      <td>Василий</td>\n",
       "      <td>Форпост</td>\n",
       "      <td>2005-11-30 14:38:00</td>\n",
       "      <td>Банк больше не работает с обменниками..</td>\n",
       "      <td>3.0</td>\n",
       "      <td>39</td>\n",
       "      <td>банк больше не работает с обменниками</td>\n",
       "      <td>6</td>\n",
       "    </tr>\n",
       "    <tr>\n",
       "      <th>153286</th>\n",
       "      <td>None</td>\n",
       "      <td>False</td>\n",
       "      <td>Охранники</td>\n",
       "      <td>0</td>\n",
       "      <td>лицензия № 828 (аннулирована)</td>\n",
       "      <td>угу</td>\n",
       "      <td>Ярсоцбанк</td>\n",
       "      <td>2005-04-28 15:01:00</td>\n",
       "      <td>Охранники у банка слишком злые.</td>\n",
       "      <td>3.0</td>\n",
       "      <td>31</td>\n",
       "      <td>охранники у банка слишком злые</td>\n",
       "      <td>5</td>\n",
       "    </tr>\n",
       "    <tr>\n",
       "      <th>152684</th>\n",
       "      <td>None</td>\n",
       "      <td>False</td>\n",
       "      <td>Долго делают карту</td>\n",
       "      <td>0</td>\n",
       "      <td>лицензия № 2562</td>\n",
       "      <td>клиент</td>\n",
       "      <td>Бинбанк</td>\n",
       "      <td>2005-06-29 16:39:00</td>\n",
       "      <td>Делают карту VISA почти 3 недели...</td>\n",
       "      <td>1.0</td>\n",
       "      <td>35</td>\n",
       "      <td>делают карту почти недели</td>\n",
       "      <td>4</td>\n",
       "    </tr>\n",
       "    <tr>\n",
       "      <th>145330</th>\n",
       "      <td>None</td>\n",
       "      <td>False</td>\n",
       "      <td>ВТБ 24 в Челябинске</td>\n",
       "      <td>1</td>\n",
       "      <td>лицензия № 1623</td>\n",
       "      <td>MRS007</td>\n",
       "      <td>ВТБ 24</td>\n",
       "      <td>2008-01-02 16:56:00</td>\n",
       "      <td>V avgycte poputalac vzyat ipoteky cherez etot ...</td>\n",
       "      <td>1.0</td>\n",
       "      <td>765</td>\n",
       "      <td></td>\n",
       "      <td>0</td>\n",
       "    </tr>\n",
       "  </tbody>\n",
       "</table>\n",
       "<p>88658 rows × 13 columns</p>\n",
       "</div>"
      ],
      "text/plain": [
       "               city  rating_not_checked  \\\n",
       "49155   г. Сафоново               False   \n",
       "118257    г. Москва               False   \n",
       "38104     г. Москва               False   \n",
       "86611     г. Москва               False   \n",
       "26023     г. Москва               False   \n",
       "...             ...                 ...   \n",
       "152261         None               False   \n",
       "151714         None               False   \n",
       "153286         None               False   \n",
       "152684         None               False   \n",
       "145330         None               False   \n",
       "\n",
       "                                                    title  num_comments  \\\n",
       "49155                      Хамство и унижение посетителей             5   \n",
       "118257  Личный (и печальный) опыт попытки оспорить мош...            26   \n",
       "38104                                                                 5   \n",
       "86611   Больше нет причин, которые бы меня держали в э...            14   \n",
       "26023                                                                12   \n",
       "...                                                   ...           ...   \n",
       "152261                                       Хороший банк             0   \n",
       "151714                   Отказ от валютообменных операций             0   \n",
       "153286                                          Охранники             0   \n",
       "152684                                 Долго делают карту             0   \n",
       "145330                                ВТБ 24 в Челябинске             1   \n",
       "\n",
       "                         bank_license          author        bank_name  \\\n",
       "49155                 лицензия № 1481        Ден22ден  Сбербанк России   \n",
       "118257                лицензия № 3292  cybernatic-cat   Райффайзенбанк   \n",
       "38104                 лицензия № 1481          Knever  Сбербанк России   \n",
       "86611                 лицензия № 1326        iSavaDev       Альфа-Банк   \n",
       "26023                 лицензия № 2748           ileon      Банк Москвы   \n",
       "...                               ...             ...              ...   \n",
       "152261                лицензия № 2291          Sergey       ИМПЭКСБанк   \n",
       "151714     лицензия № 2575 (отозвана)         Василий          Форпост   \n",
       "153286  лицензия № 828 (аннулирована)             угу        Ярсоцбанк   \n",
       "152684                лицензия № 2562          клиент          Бинбанк   \n",
       "145330                лицензия № 1623          MRS007           ВТБ 24   \n",
       "\n",
       "                   datetime  \\\n",
       "49155   2014-04-27 18:37:00   \n",
       "118257  2011-10-18 21:57:00   \n",
       "38104   2014-08-08 15:04:00   \n",
       "86611   2013-04-06 21:49:00   \n",
       "26023   2014-11-22 20:04:00   \n",
       "...                     ...   \n",
       "152261  2005-09-23 19:05:00   \n",
       "151714  2005-11-30 14:38:00   \n",
       "153286  2005-04-28 15:01:00   \n",
       "152684  2005-06-29 16:39:00   \n",
       "145330  2008-01-02 16:56:00   \n",
       "\n",
       "                                                     text  rating_grade  \\\n",
       "49155   Доброго времени суток. Я, Ливанцов Денис Анато...           1.0   \n",
       "118257  Весь пост (крайне объёмный) опубликован мной в...           2.0   \n",
       "38104   Введение оно же вывод. Данный отзыв содержит к...           1.0   \n",
       "86611   История за 10 лет... Напишу кратко (это действ...           1.0   \n",
       "26023   Как и обещал в своем предыдущем отзыве от 29 о...           1.0   \n",
       "...                                                   ...           ...   \n",
       "152261     Быстро получил 150.000 без каких-либо проблем.           5.0   \n",
       "151714            Банк больше не работает с обменниками..           3.0   \n",
       "153286                    Охранники у банка слишком злые.           3.0   \n",
       "152684                Делают карту VISA почти 3 недели...           1.0   \n",
       "145330  V avgycte poputalac vzyat ipoteky cherez etot ...           1.0   \n",
       "\n",
       "        text_len                                         text_words  \\\n",
       "49155      32082  доброго времени суток я ливанцов денис анатоль...   \n",
       "118257     29679  весь пост крайне объ мный опубликован мной в ж...   \n",
       "38104      27220  введение оно же вывод данный отзыв содержит кр...   \n",
       "86611      24604  история за лет напишу кратко это действительно...   \n",
       "26023      27364  как и обещал в своем предыдущем отзыве от октя...   \n",
       "...          ...                                                ...   \n",
       "152261        46              быстро получил без каких либо проблем   \n",
       "151714        39              банк больше не работает с обменниками   \n",
       "153286        31                     охранники у банка слишком злые   \n",
       "152684        35                          делают карту почти недели   \n",
       "145330       765                                                      \n",
       "\n",
       "        words_count  \n",
       "49155          5001  \n",
       "118257         4099  \n",
       "38104          4021  \n",
       "86611          3939  \n",
       "26023          3557  \n",
       "...             ...  \n",
       "152261            6  \n",
       "151714            6  \n",
       "153286            5  \n",
       "152684            4  \n",
       "145330            0  \n",
       "\n",
       "[88658 rows x 13 columns]"
      ]
     },
     "execution_count": 17,
     "metadata": {},
     "output_type": "execute_result"
    }
   ],
   "source": [
    "df['words_count'] = df['text_words'].progress_apply(lambda x: len(x.split()))\n",
    "df.sort_values(by=\"words_count\", ascending=False)"
   ]
  },
  {
   "cell_type": "markdown",
   "metadata": {},
   "source": [
    "Проверяем на транслитеррацию"
   ]
  },
  {
   "cell_type": "code",
   "execution_count": 18,
   "metadata": {},
   "outputs": [
    {
     "data": {
      "text/plain": [
       "<AxesSubplot:>"
      ]
     },
     "execution_count": 18,
     "metadata": {},
     "output_type": "execute_result"
    },
    {
     "data": {
      "image/png": "[encoded data removed]",
      "text/plain": [
       "<Figure size 432x288 with 1 Axes>"
      ]
     },
     "metadata": {
      "needs_background": "light"
     },
     "output_type": "display_data"
    }
   ],
   "source": [
    "df['words_count'].hist(bins=20)"
   ]
  },
  {
   "cell_type": "code",
   "execution_count": 20,
   "metadata": {},
   "outputs": [
    {
     "data": {
      "text/plain": [
       "count    88658.000000\n",
       "mean       255.816339\n",
       "std        208.277098\n",
       "min          0.000000\n",
       "25%        125.000000\n",
       "50%        200.000000\n",
       "75%        318.000000\n",
       "max       5001.000000\n",
       "Name: words_count, dtype: float64"
      ]
     },
     "execution_count": 20,
     "metadata": {},
     "output_type": "execute_result"
    }
   ],
   "source": [
    "df['words_count'].describe()"
   ]
  },
  {
   "cell_type": "code",
   "execution_count": 3,
   "metadata": {},
   "outputs": [],
   "source": [
    "from time import sleep\n",
    "from tqdm import tqdm"
   ]
  },
  {
   "cell_type": "markdown",
   "metadata": {},
   "source": [
    "**3. Найдите 10 самых частых:**\n",
    "*   слов\n",
    "*   слов без стоп-слов\n",
    "*   лемм\n",
    "*   существительных"
   ]
  },
  {
   "cell_type": "markdown",
   "metadata": {},
   "source": [
    "Слова"
   ]
  },
  {
   "cell_type": "code",
   "execution_count": 23,
   "metadata": {},
   "outputs": [
    {
     "name": "stderr",
     "output_type": "stream",
     "text": [
      "100%|██████████| 88658/88658 [11:58<00:00, 123.43it/s]"
     ]
    },
    {
     "name": "stdout",
     "output_type": "stream",
     "text": [
      "('в', 859205)\n",
      "('и', 683760)\n",
      "('не', 541870)\n",
      "('на', 453390)\n",
      "('что', 417356)\n",
      "('я', 368386)\n",
      "('с', 288214)\n",
      "('по', 232882)\n",
      "('мне', 209093)\n",
      "('банка', 171118)\n"
     ]
    },
    {
     "name": "stderr",
     "output_type": "stream",
     "text": [
      "\n"
     ]
    }
   ],
   "source": [
    "from collections import Counter\n",
    "cnt = Counter()\n",
    "n_types = []\n",
    "n_tokens = []\n",
    "tokens = []\n",
    "for index, row in tqdm(df.iterrows(), total = len(df)):\n",
    "    tokens = row['text_words'].split()\n",
    "    cnt.update(tokens)\n",
    "    n_types.append(len(cnt))\n",
    "    n_tokens.append(sum(list(cnt.values())))\n",
    "for i in cnt.most_common(10):\n",
    "    print(i)"
   ]
  },
  {
   "cell_type": "markdown",
   "metadata": {},
   "source": [
    "Кривая Ципфа"
   ]
  },
  {
   "cell_type": "code",
   "execution_count": 24,
   "metadata": {},
   "outputs": [
    {
     "data": {
      "image/png": "[encoded data removed]",
      "text/plain": [
       "<Figure size 432x288 with 1 Axes>"
      ]
     },
     "metadata": {
      "needs_background": "light"
     },
     "output_type": "display_data"
    }
   ],
   "source": [
    "freqs = list(cnt.values())\n",
    "freqs = sorted(freqs, reverse = True)\n",
    "\n",
    "fig, ax = plt.subplots()\n",
    "ax.plot(freqs[:300], range(300))\n",
    "plt.show()"
   ]
  },
  {
   "cell_type": "markdown",
   "metadata": {},
   "source": [
    "Кривая Хипса"
   ]
  },
  {
   "cell_type": "code",
   "execution_count": 25,
   "metadata": {},
   "outputs": [
    {
     "data": {
      "image/png": "[encoded data removed]",
      "text/plain": [
       "<Figure size 432x288 with 1 Axes>"
      ]
     },
     "metadata": {
      "needs_background": "light"
     },
     "output_type": "display_data"
    }
   ],
   "source": [
    "fig, ax = plt.subplots()\n",
    "ax.plot(n_tokens, n_types)\n",
    "plt.show()"
   ]
  },
  {
   "cell_type": "markdown",
   "metadata": {},
   "source": [
    "Стоп-слова"
   ]
  },
  {
   "cell_type": "code",
   "execution_count": 26,
   "metadata": {},
   "outputs": [
    {
     "name": "stderr",
     "output_type": "stream",
     "text": [
      "[nltk_data] Downloading package stopwords to\n",
      "[nltk_data]     /Users/filipprodcenkov/nltk_data...\n",
      "[nltk_data]   Package stopwords is already up-to-date!\n"
     ]
    }
   ],
   "source": [
    "from nltk.corpus import stopwords\n",
    "nltk.download('stopwords')\n",
    "mystopwords = stopwords.words('russian') + ['это', 'наш' , 'тыс', 'млн', 'млрд', 'также',  'т', 'д']\n",
    "def remove_stopwords(text, mystopwords = mystopwords):\n",
    "    try:\n",
    "        return \" \".join([token for token in text.split() if not token in mystopwords])\n",
    "    except:\n",
    "        return \"\""
   ]
  },
  {
   "cell_type": "code",
   "execution_count": 27,
   "metadata": {},
   "outputs": [
    {
     "data": {
      "application/vnd.jupyter.widget-view+json": {
       "model_id": "16c530426b0b484e979d6beefa96d3bb",
       "version_major": 2,
       "version_minor": 0
      },
      "text/plain": [
       "HBox(children=(HTML(value=''), FloatProgress(value=0.0, max=88658.0), HTML(value='')))"
      ]
     },
     "metadata": {},
     "output_type": "display_data"
    },
    {
     "name": "stdout",
     "output_type": "stream",
     "text": [
      "\n"
     ]
    }
   ],
   "source": [
    "df['text_words_stop'] = df['text_words'].progress_apply(remove_stopwords)"
   ]
  },
  {
   "cell_type": "code",
   "execution_count": 28,
   "metadata": {},
   "outputs": [
    {
     "name": "stderr",
     "output_type": "stream",
     "text": [
      "100%|██████████| 88658/88658 [11:56<00:00, 123.74it/s]"
     ]
    },
    {
     "name": "stdout",
     "output_type": "stream",
     "text": [
      "('банка', 171118)\n",
      "('банк', 130753)\n",
      "('деньги', 83171)\n",
      "('карту', 69033)\n",
      "('карты', 63121)\n",
      "('отделение', 48431)\n",
      "('день', 48092)\n",
      "('кредит', 47746)\n",
      "('банке', 46245)\n",
      "('заявление', 45279)\n"
     ]
    },
    {
     "name": "stderr",
     "output_type": "stream",
     "text": [
      "\n"
     ]
    }
   ],
   "source": [
    "cnt_stop = Counter()\n",
    "n_types_stop = []\n",
    "n_tokens_stop = []\n",
    "tokens_stop = []\n",
    "for index, row in tqdm(df.iterrows(), total = len(df)):\n",
    "    tokens_stop = row['text_words_stop'].split()\n",
    "    cnt_stop.update(tokens_stop)\n",
    "    n_types_stop.append(len(cnt_stop))\n",
    "    n_tokens_stop.append(sum(list(cnt_stop.values())))\n",
    "for i in cnt_stop.most_common(10):\n",
    "    print(i)"
   ]
  },
  {
   "cell_type": "markdown",
   "metadata": {},
   "source": [
    "Кривая Ципфа"
   ]
  },
  {
   "cell_type": "code",
   "execution_count": 29,
   "metadata": {},
   "outputs": [
    {
     "data": {
      "image/png": "[encoded data removed]",
      "text/plain": [
       "<Figure size 432x288 with 1 Axes>"
      ]
     },
     "metadata": {
      "needs_background": "light"
     },
     "output_type": "display_data"
    }
   ],
   "source": [
    "freqs = list(cnt_stop.values())\n",
    "freqs = sorted(freqs, reverse = True)\n",
    "\n",
    "fig, ax = plt.subplots()\n",
    "ax.plot(freqs[:300], range(300))\n",
    "plt.show()"
   ]
  },
  {
   "cell_type": "markdown",
   "metadata": {},
   "source": [
    "Кривая Хипса"
   ]
  },
  {
   "cell_type": "code",
   "execution_count": 30,
   "metadata": {},
   "outputs": [
    {
     "data": {
      "image/png": "[encoded data removed]",
      "text/plain": [
       "<Figure size 432x288 with 1 Axes>"
      ]
     },
     "metadata": {
      "needs_background": "light"
     },
     "output_type": "display_data"
    }
   ],
   "source": [
    "fig, ax = plt.subplots()\n",
    "ax.plot(n_tokens_stop, n_types_stop)\n",
    "plt.show()"
   ]
  },
  {
   "cell_type": "markdown",
   "metadata": {},
   "source": [
    "Леммы"
   ]
  },
  {
   "cell_type": "code",
   "execution_count": 31,
   "metadata": {},
   "outputs": [],
   "source": [
    "from pymorphy2 import MorphAnalyzer\n",
    "pm2 = MorphAnalyzer()\n",
    "\n",
    "from nltk.tokenize import toktok\n",
    "toktok = toktok.ToktokTokenizer()\n",
    "\n",
    "\n",
    "def lemmatize(text, morph=pm2):\n",
    "    try:\n",
    "        return ' '.join([morph.parse(word)[0].normal_form for word in text.split()])\n",
    "    except:\n",
    "        return \" \"\n",
    "\n",
    "def mystem_analysis(text):\n",
    "    try:\n",
    "        in_file = uuid.uuid4().hex\n",
    "        out_file = uuid.uuid4().hex\n",
    "        with codecs.open(in_file, 'w', encoding='utf8') as f:\n",
    "            f.write(text)\n",
    "\n",
    "        !mystem -i --format json {in_file} {out_file}\n",
    "\n",
    "        with codecs.open(out_file, 'r', encoding='utf8') as f:\n",
    "            out = f.read()\n",
    "            \n",
    "        os.remove(in_file)\n",
    "        os.remove(out_file)\n",
    "        return out\n",
    "    except:\n",
    "        return \" \"\n",
    "\n",
    "def pymorph_analysis(text):\n",
    "    try:\n",
    "        return [pm2.parse(word) for word in toktok.tokenize(text)]\n",
    "    except:\n",
    "        return []"
   ]
  },
  {
   "cell_type": "code",
   "execution_count": 32,
   "metadata": {},
   "outputs": [],
   "source": [
    "mystoplemmas = ['который','прошлый','сей', 'свой', 'наш', 'мочь']\n",
    "def remove_stoplemmas(text, mystoplemmas = mystoplemmas):\n",
    "    try:\n",
    "        return \" \".join([token for token in text.split() if not token in mystoplemmas])\n",
    "    except:\n",
    "        return \" \""
   ]
  },
  {
   "cell_type": "code",
   "execution_count": 33,
   "metadata": {},
   "outputs": [],
   "source": [
    "def get_lemmas(arr):\n",
    "    return ' '.join([lemma[0].normal_form for lemma in arr if not lemma[0].normal_form in mystoplemmas])"
   ]
  },
  {
   "cell_type": "code",
   "execution_count": 34,
   "metadata": {},
   "outputs": [
    {
     "data": {
      "application/vnd.jupyter.widget-view+json": {
       "model_id": "a1571fe319334edf9ce1fb9cb3f2f571",
       "version_major": 2,
       "version_minor": 0
      },
      "text/plain": [
       "HBox(children=(HTML(value=''), FloatProgress(value=0.0, max=88658.0), HTML(value='')))"
      ]
     },
     "metadata": {},
     "output_type": "display_data"
    },
    {
     "name": "stdout",
     "output_type": "stream",
     "text": [
      "\n"
     ]
    }
   ],
   "source": [
    "df['text_analysis'] = df['text_words_stop'].progress_apply(pymorph_analysis)"
   ]
  },
  {
   "cell_type": "code",
   "execution_count": 35,
   "metadata": {},
   "outputs": [
    {
     "data": {
      "application/vnd.jupyter.widget-view+json": {
       "model_id": "89e535486d704265a0eccd9686b51cc1",
       "version_major": 2,
       "version_minor": 0
      },
      "text/plain": [
       "HBox(children=(HTML(value=''), FloatProgress(value=0.0, max=88658.0), HTML(value='')))"
      ]
     },
     "metadata": {},
     "output_type": "display_data"
    },
    {
     "name": "stdout",
     "output_type": "stream",
     "text": [
      "\n"
     ]
    },
    {
     "data": {
      "text/html": [
       "<div>\n",
       "<style scoped>\n",
       "    .dataframe tbody tr th:only-of-type {\n",
       "        vertical-align: middle;\n",
       "    }\n",
       "\n",
       "    .dataframe tbody tr th {\n",
       "        vertical-align: top;\n",
       "    }\n",
       "\n",
       "    .dataframe thead th {\n",
       "        text-align: right;\n",
       "    }\n",
       "</style>\n",
       "<table border=\"1\" class=\"dataframe\">\n",
       "  <thead>\n",
       "    <tr style=\"text-align: right;\">\n",
       "      <th></th>\n",
       "      <th>city</th>\n",
       "      <th>rating_not_checked</th>\n",
       "      <th>title</th>\n",
       "      <th>num_comments</th>\n",
       "      <th>bank_license</th>\n",
       "      <th>author</th>\n",
       "      <th>bank_name</th>\n",
       "      <th>datetime</th>\n",
       "      <th>text</th>\n",
       "      <th>rating_grade</th>\n",
       "      <th>text_len</th>\n",
       "      <th>text_words</th>\n",
       "      <th>words_count</th>\n",
       "      <th>text_words_stop</th>\n",
       "      <th>text_analysis</th>\n",
       "      <th>lemma</th>\n",
       "    </tr>\n",
       "  </thead>\n",
       "  <tbody>\n",
       "    <tr>\n",
       "      <th>14</th>\n",
       "      <td>г. Москва</td>\n",
       "      <td>False</td>\n",
       "      <td>В Шоке</td>\n",
       "      <td>0</td>\n",
       "      <td>лицензия № 2673</td>\n",
       "      <td>yura1189</td>\n",
       "      <td>Тинькофф Банк</td>\n",
       "      <td>2015-06-05 13:52:40</td>\n",
       "      <td>Также как и многие давний клиент банка, был до...</td>\n",
       "      <td>2.0</td>\n",
       "      <td>1649</td>\n",
       "      <td>также как и многие давний клиент банка был дов...</td>\n",
       "      <td>237</td>\n",
       "      <td>многие давний клиент банка доволен высшей степ...</td>\n",
       "      <td>[[(многие, NPRO plur,nomn, многие, 0.679245, (...</td>\n",
       "      <td>многие давний клиент банк довольный высокий ст...</td>\n",
       "    </tr>\n",
       "    <tr>\n",
       "      <th>19</th>\n",
       "      <td>г. Москва</td>\n",
       "      <td>False</td>\n",
       "      <td>Некомпетентность сотрудников банка</td>\n",
       "      <td>2</td>\n",
       "      <td>лицензия № 1481</td>\n",
       "      <td>agelun</td>\n",
       "      <td>Сбербанк России</td>\n",
       "      <td>2015-06-05 15:00:54</td>\n",
       "      <td>Открыт вклад и счет в USD. Плюс к этому есть з...</td>\n",
       "      <td>1.0</td>\n",
       "      <td>2214</td>\n",
       "      <td>открыт вклад и счет в плюс к этому есть зарпла...</td>\n",
       "      <td>342</td>\n",
       "      <td>открыт вклад счет плюс этому зарплатная карта ...</td>\n",
       "      <td>[[(открыт, PRTS,perf,past,pssv masc,sing, откр...</td>\n",
       "      <td>открыть вклад счёт плюс этот зарплатный карта ...</td>\n",
       "    </tr>\n",
       "    <tr>\n",
       "      <th>33</th>\n",
       "      <td>г. Ростов-на-Дону</td>\n",
       "      <td>False</td>\n",
       "      <td>Навязывание страховки</td>\n",
       "      <td>1</td>\n",
       "      <td>лицензия № 1481</td>\n",
       "      <td>Joker888</td>\n",
       "      <td>Сбербанк России</td>\n",
       "      <td>2015-06-05 21:35:40</td>\n",
       "      <td>Доброго времени! Вчера мне поступило смс-уведо...</td>\n",
       "      <td>1.0</td>\n",
       "      <td>2159</td>\n",
       "      <td>доброго времени вчера мне поступило смс уведом...</td>\n",
       "      <td>311</td>\n",
       "      <td>доброго времени вчера поступило смс уведомлени...</td>\n",
       "      <td>[[(доброго, ADJF,Qual neut,sing,gent, добрый, ...</td>\n",
       "      <td>добрый время вчера поступить смс уведомление б...</td>\n",
       "    </tr>\n",
       "  </tbody>\n",
       "</table>\n",
       "</div>"
      ],
      "text/plain": [
       "                 city  rating_not_checked                               title  \\\n",
       "14          г. Москва               False                              В Шоке   \n",
       "19          г. Москва               False  Некомпетентность сотрудников банка   \n",
       "33  г. Ростов-на-Дону               False               Навязывание страховки   \n",
       "\n",
       "    num_comments     bank_license    author        bank_name  \\\n",
       "14             0  лицензия № 2673  yura1189    Тинькофф Банк   \n",
       "19             2  лицензия № 1481    agelun  Сбербанк России   \n",
       "33             1  лицензия № 1481  Joker888  Сбербанк России   \n",
       "\n",
       "               datetime                                               text  \\\n",
       "14  2015-06-05 13:52:40  Также как и многие давний клиент банка, был до...   \n",
       "19  2015-06-05 15:00:54  Открыт вклад и счет в USD. Плюс к этому есть з...   \n",
       "33  2015-06-05 21:35:40  Доброго времени! Вчера мне поступило смс-уведо...   \n",
       "\n",
       "    rating_grade  text_len                                         text_words  \\\n",
       "14           2.0      1649  также как и многие давний клиент банка был дов...   \n",
       "19           1.0      2214  открыт вклад и счет в плюс к этому есть зарпла...   \n",
       "33           1.0      2159  доброго времени вчера мне поступило смс уведом...   \n",
       "\n",
       "    words_count                                    text_words_stop  \\\n",
       "14          237  многие давний клиент банка доволен высшей степ...   \n",
       "19          342  открыт вклад счет плюс этому зарплатная карта ...   \n",
       "33          311  доброго времени вчера поступило смс уведомлени...   \n",
       "\n",
       "                                        text_analysis  \\\n",
       "14  [[(многие, NPRO plur,nomn, многие, 0.679245, (...   \n",
       "19  [[(открыт, PRTS,perf,past,pssv masc,sing, откр...   \n",
       "33  [[(доброго, ADJF,Qual neut,sing,gent, добрый, ...   \n",
       "\n",
       "                                                lemma  \n",
       "14  многие давний клиент банк довольный высокий ст...  \n",
       "19  открыть вклад счёт плюс этот зарплатный карта ...  \n",
       "33  добрый время вчера поступить смс уведомление б...  "
      ]
     },
     "execution_count": 35,
     "metadata": {},
     "output_type": "execute_result"
    }
   ],
   "source": [
    "df['lemma'] = df['text_analysis'].progress_apply(get_lemmas)\n",
    "df.head(3)"
   ]
  },
  {
   "cell_type": "code",
   "execution_count": 36,
   "metadata": {},
   "outputs": [
    {
     "name": "stderr",
     "output_type": "stream",
     "text": [
      "100%|██████████| 88658/88658 [04:15<00:00, 346.84it/s]"
     ]
    },
    {
     "name": "stdout",
     "output_type": "stream",
     "text": [
      "('банк', 413149)\n",
      "('карта', 211438)\n",
      "('деньга', 114398)\n",
      "('день', 112825)\n",
      "('отделение', 105610)\n",
      "('мой', 98205)\n",
      "('кредит', 91324)\n",
      "('сотрудник', 88252)\n",
      "('клиент', 88018)\n",
      "('счёт', 81909)\n"
     ]
    },
    {
     "name": "stderr",
     "output_type": "stream",
     "text": [
      "\n"
     ]
    }
   ],
   "source": [
    "cnt_lemmas = Counter()\n",
    "n_types_lemmas = []\n",
    "n_tokens_lemmas = []\n",
    "tokens_lemmas = []\n",
    "for index, row in tqdm(df.iterrows(), total = len(df)):\n",
    "    tokens_lemmas = row['lemma'].split()\n",
    "    cnt_lemmas.update(tokens_lemmas)\n",
    "    n_types_lemmas.append(len(cnt_lemmas))\n",
    "    n_tokens_lemmas.append(sum(list(cnt_lemmas.values())))\n",
    "for i in cnt_lemmas.most_common(10):\n",
    "    print(i)"
   ]
  },
  {
   "cell_type": "markdown",
   "metadata": {},
   "source": [
    "Кривая Ципфа"
   ]
  },
  {
   "cell_type": "code",
   "execution_count": 37,
   "metadata": {},
   "outputs": [
    {
     "data": {
      "image/png": "[encoded data removed]",
      "text/plain": [
       "<Figure size 432x288 with 1 Axes>"
      ]
     },
     "metadata": {
      "needs_background": "light"
     },
     "output_type": "display_data"
    }
   ],
   "source": [
    "freqs = list(cnt_lemmas.values())\n",
    "freqs = sorted(freqs, reverse = True)\n",
    "\n",
    "fig, ax = plt.subplots()\n",
    "ax.plot(freqs[:300], range(300))\n",
    "plt.show()"
   ]
  },
  {
   "cell_type": "markdown",
   "metadata": {},
   "source": [
    "Кривая Хипса"
   ]
  },
  {
   "cell_type": "code",
   "execution_count": 38,
   "metadata": {},
   "outputs": [
    {
     "data": {
      "image/png": "[encoded data removed]",
      "text/plain": [
       "<Figure size 432x288 with 1 Axes>"
      ]
     },
     "metadata": {
      "needs_background": "light"
     },
     "output_type": "display_data"
    }
   ],
   "source": [
    "fig, ax = plt.subplots()\n",
    "ax.plot(n_tokens_lemmas, n_types_lemmas)\n",
    "plt.show()"
   ]
  },
  {
   "cell_type": "markdown",
   "metadata": {},
   "source": [
    "Существительные"
   ]
  },
  {
   "cell_type": "code",
   "execution_count": 39,
   "metadata": {},
   "outputs": [
    {
     "name": "stderr",
     "output_type": "stream",
     "text": [
      "100%|██████████| 88658/88658 [02:26<00:00, 606.95it/s] \n"
     ]
    },
    {
     "name": "stdout",
     "output_type": "stream",
     "text": [
      "('банк', 413149)\n",
      "('карта', 211438)\n",
      "('деньга', 114398)\n",
      "('день', 112825)\n",
      "('отделение', 105610)\n",
      "('кредит', 91324)\n",
      "('сотрудник', 88252)\n",
      "('клиент', 88018)\n",
      "('счёт', 81909)\n",
      "('заявление', 66721)\n"
     ]
    }
   ],
   "source": [
    "cnt_noun = Counter()\n",
    "n_types_noun = []\n",
    "n_tokens_noun = []\n",
    "tokens_noun = []\n",
    "for index, row in tqdm(df.iterrows(), total = len(df)):\n",
    "    tokens_noun = [lemma[0].normal_form for lemma in row['text_analysis'] if 'NOUN' in lemma[0].tag]\n",
    "    cnt_noun.update(tokens_noun)\n",
    "    n_types_noun.append(len(cnt_noun))\n",
    "    n_tokens_noun.append(sum(list(cnt_noun.values())))\n",
    "for i in cnt_noun.most_common(10):\n",
    "    print(i)"
   ]
  },
  {
   "cell_type": "markdown",
   "metadata": {},
   "source": [
    "Кривая Ципфа"
   ]
  },
  {
   "cell_type": "code",
   "execution_count": 40,
   "metadata": {},
   "outputs": [
    {
     "data": {
      "image/png": "[encoded data removed]",
      "text/plain": [
       "<Figure size 432x288 with 1 Axes>"
      ]
     },
     "metadata": {
      "needs_background": "light"
     },
     "output_type": "display_data"
    }
   ],
   "source": [
    "freqs = list(cnt_noun.values())\n",
    "freqs = sorted(freqs, reverse = True)\n",
    "\n",
    "fig, ax = plt.subplots()\n",
    "ax.plot(freqs[:300], range(300))\n",
    "plt.show()"
   ]
  },
  {
   "cell_type": "markdown",
   "metadata": {},
   "source": [
    "Кривая Хипса"
   ]
  },
  {
   "cell_type": "code",
   "execution_count": 41,
   "metadata": {},
   "outputs": [
    {
     "data": {
      "image/png": "[encoded data removed]",
      "text/plain": [
       "<Figure size 432x288 with 1 Axes>"
      ]
     },
     "metadata": {
      "needs_background": "light"
     },
     "output_type": "display_data"
    }
   ],
   "source": [
    "fig, ax = plt.subplots()\n",
    "ax.plot(n_tokens_noun, n_types_noun)\n",
    "plt.show()"
   ]
  },
  {
   "cell_type": "markdown",
   "metadata": {},
   "source": [
    "**4. Ответьте на следующие вопросы:**  \n",
    "какое слово встречается чаще, \"сотрудник\" или \"клиент\"?  \n",
    "сколько раз встречается слова \"мошенничество\" и \"доверие\"?"
   ]
  },
  {
   "cell_type": "code",
   "execution_count": 42,
   "metadata": {},
   "outputs": [
    {
     "name": "stdout",
     "output_type": "stream",
     "text": [
      "слово \"сотрудник\" встречается 20958 раз\n",
      "слово \"клиент\" встречается 12963 раз\n",
      "слово \"сотрудник\" встречается чаще, чем слово \"клиент\"\n"
     ]
    }
   ],
   "source": [
    "print(f\"слово \\\"сотрудник\\\" встречается {cnt['сотрудник']} раз\")\n",
    "print(f\"слово \\\"клиент\\\" встречается {cnt['клиент']} раз\")\n",
    "if cnt['клиент'] > cnt['сотрудник']:\n",
    "      print(\"слово \\\"клиент\\\" встречается чаще, чем слово \\\"сотрудник\\\"\")\n",
    "else:\n",
    "      print(\"слово \\\"сотрудник\\\" встречается чаще, чем слово \\\"клиент\\\"\")"
   ]
  },
  {
   "cell_type": "code",
   "execution_count": 43,
   "metadata": {},
   "outputs": [
    {
     "name": "stdout",
     "output_type": "stream",
     "text": [
      "слово \"мошенничество\" встречается 493 раз\n",
      "слово \"доверие\" встречается 699 раз\n",
      "слово \"доверие\" встречается чаще, чем слово \"мошенничество\"\n"
     ]
    }
   ],
   "source": [
    "print(f\"слово \\\"мошенничество\\\" встречается {cnt['мошенничество']} раз\")\n",
    "print(f\"слово \\\"доверие\\\" встречается {cnt['доверие']} раз\")\n",
    "if cnt['доверие'] > cnt['мошенничество']:\n",
    "      print(\"слово \\\"доверие\\\" встречается чаще, чем слово \\\"мошенничество\\\"\")\n",
    "else:\n",
    "      print(\"слово \\\"мошенничество\\\" встречается чаще, чем слово \\\"доверие\\\"\")"
   ]
  },
  {
   "cell_type": "markdown",
   "metadata": {},
   "source": [
    "**5. В поле \"rating_grade\" записана оценка отзыва по шкале от 1 до 5. Используйте меру $tf-idf$, для того, чтобы найти ключевые слова и биграмы для положительных отзывов (с оценкой 5) и отрицательных отзывов (с оценкой 1)**"
   ]
  },
  {
   "cell_type": "code",
   "execution_count": 44,
   "metadata": {},
   "outputs": [
    {
     "data": {
      "text/plain": [
       "array([2., 1., 5., 3., 4.])"
      ]
     },
     "execution_count": 44,
     "metadata": {},
     "output_type": "execute_result"
    }
   ],
   "source": [
    "df['rating_grade'].fillna(0, inplace=True)\n",
    "df['rating_grade'].unique()"
   ]
  },
  {
   "cell_type": "code",
   "execution_count": 45,
   "metadata": {},
   "outputs": [],
   "source": [
    "tokens_by_rating = []\n",
    "for rating in range(6):\n",
    "    tokens = []\n",
    "    sample = df[df['rating_grade']==rating]['lemma']\n",
    "\n",
    "    for i in range(len(sample)):\n",
    "        tokens += sample.iloc[i].split()\n",
    "    tokens_by_rating.append(tokens)"
   ]
  },
  {
   "cell_type": "code",
   "execution_count": 46,
   "metadata": {},
   "outputs": [],
   "source": [
    "from sklearn.feature_extraction.text import TfidfVectorizer\n",
    "import numpy as np"
   ]
  },
  {
   "cell_type": "code",
   "execution_count": 47,
   "metadata": {},
   "outputs": [],
   "source": [
    "tfidf = TfidfVectorizer(analyzer='word', ngram_range=(1,1), min_df = 0)\n",
    "tfidf_matrix =  tfidf.fit_transform([' '.join(tokens) for tokens in tokens_by_rating])\n",
    "feature_names = tfidf.get_feature_names() \n",
    "tfidf_ranking1_uni = []\n",
    "dense = tfidf_matrix.todense()\n",
    "\n",
    "text = dense[1].tolist()[0]\n",
    "phrase_scores = [pair for pair in zip(range(0, len(text)), text) if pair[1] > 0]\n",
    "sorted_phrase_scores = sorted(phrase_scores, key=lambda t: t[1] * -1)\n",
    "phrases = []\n",
    "for phrase, score in [(feature_names[word_id], score) for (word_id, score) in sorted_phrase_scores][:40]:\n",
    "    tfidf_ranking1_uni.append(phrase)"
   ]
  },
  {
   "cell_type": "markdown",
   "metadata": {},
   "source": [
    "Униграммы отрицательных отзывов"
   ]
  },
  {
   "cell_type": "code",
   "execution_count": 48,
   "metadata": {},
   "outputs": [
    {
     "data": {
      "text/html": [
       "<div>\n",
       "<style scoped>\n",
       "    .dataframe tbody tr th:only-of-type {\n",
       "        vertical-align: middle;\n",
       "    }\n",
       "\n",
       "    .dataframe tbody tr th {\n",
       "        vertical-align: top;\n",
       "    }\n",
       "\n",
       "    .dataframe thead th {\n",
       "        text-align: right;\n",
       "    }\n",
       "</style>\n",
       "<table border=\"1\" class=\"dataframe\">\n",
       "  <thead>\n",
       "    <tr style=\"text-align: right;\">\n",
       "      <th></th>\n",
       "      <th>negtive_uni</th>\n",
       "    </tr>\n",
       "  </thead>\n",
       "  <tbody>\n",
       "    <tr>\n",
       "      <th>0</th>\n",
       "      <td>банк</td>\n",
       "    </tr>\n",
       "    <tr>\n",
       "      <th>1</th>\n",
       "      <td>карта</td>\n",
       "    </tr>\n",
       "    <tr>\n",
       "      <th>2</th>\n",
       "      <td>деньга</td>\n",
       "    </tr>\n",
       "    <tr>\n",
       "      <th>3</th>\n",
       "      <td>день</td>\n",
       "    </tr>\n",
       "    <tr>\n",
       "      <th>4</th>\n",
       "      <td>мой</td>\n",
       "    </tr>\n",
       "  </tbody>\n",
       "</table>\n",
       "</div>"
      ],
      "text/plain": [
       "  negtive_uni\n",
       "0        банк\n",
       "1       карта\n",
       "2      деньга\n",
       "3        день\n",
       "4         мой"
      ]
     },
     "execution_count": 48,
     "metadata": {},
     "output_type": "execute_result"
    }
   ],
   "source": [
    "rankings = pd.DataFrame({'negtive_uni': tfidf_ranking1_uni})\n",
    "rankings.head()"
   ]
  },
  {
   "cell_type": "code",
   "execution_count": 49,
   "metadata": {},
   "outputs": [],
   "source": [
    "tfidf = TfidfVectorizer(analyzer='word', ngram_range=(2,2), min_df = 0)\n",
    "tfidf_matrix =  tfidf.fit_transform([' '.join(tokens) for tokens in tokens_by_rating])\n",
    "feature_names = tfidf.get_feature_names() \n",
    "tfidf_ranking1_bi = []\n",
    "dense = tfidf_matrix.todense()\n",
    "\n",
    "text = dense[1].tolist()[0]\n",
    "phrase_scores = [pair for pair in zip(range(0, len(text)), text) if pair[1] > 0]\n",
    "sorted_phrase_scores = sorted(phrase_scores, key=lambda t: t[1] * -1)\n",
    "phrases = []\n",
    "for phrase, score in [(feature_names[word_id], score) for (word_id, score) in sorted_phrase_scores][:40]:\n",
    "    tfidf_ranking1_bi.append(phrase)"
   ]
  },
  {
   "cell_type": "markdown",
   "metadata": {},
   "source": [
    "Биграммы отрицательных отзывов"
   ]
  },
  {
   "cell_type": "code",
   "execution_count": 50,
   "metadata": {},
   "outputs": [
    {
     "data": {
      "text/html": [
       "<div>\n",
       "<style scoped>\n",
       "    .dataframe tbody tr th:only-of-type {\n",
       "        vertical-align: middle;\n",
       "    }\n",
       "\n",
       "    .dataframe tbody tr th {\n",
       "        vertical-align: top;\n",
       "    }\n",
       "\n",
       "    .dataframe thead th {\n",
       "        text-align: right;\n",
       "    }\n",
       "</style>\n",
       "<table border=\"1\" class=\"dataframe\">\n",
       "  <thead>\n",
       "    <tr style=\"text-align: right;\">\n",
       "      <th></th>\n",
       "      <th>negative_bi</th>\n",
       "    </tr>\n",
       "  </thead>\n",
       "  <tbody>\n",
       "    <tr>\n",
       "      <th>0</th>\n",
       "      <td>сотрудник банк</td>\n",
       "    </tr>\n",
       "    <tr>\n",
       "      <th>1</th>\n",
       "      <td>кредитный карта</td>\n",
       "    </tr>\n",
       "    <tr>\n",
       "      <th>2</th>\n",
       "      <td>отделение банк</td>\n",
       "    </tr>\n",
       "    <tr>\n",
       "      <th>3</th>\n",
       "      <td>денежный средство</td>\n",
       "    </tr>\n",
       "    <tr>\n",
       "      <th>4</th>\n",
       "      <td>написать заявление</td>\n",
       "    </tr>\n",
       "  </tbody>\n",
       "</table>\n",
       "</div>"
      ],
      "text/plain": [
       "          negative_bi\n",
       "0      сотрудник банк\n",
       "1     кредитный карта\n",
       "2      отделение банк\n",
       "3   денежный средство\n",
       "4  написать заявление"
      ]
     },
     "execution_count": 50,
     "metadata": {},
     "output_type": "execute_result"
    }
   ],
   "source": [
    "rankings = pd.DataFrame({'negative_bi': tfidf_ranking1_bi})\n",
    "rankings.head()"
   ]
  },
  {
   "cell_type": "code",
   "execution_count": 51,
   "metadata": {},
   "outputs": [],
   "source": [
    "tfidf = TfidfVectorizer(analyzer='word', ngram_range=(1,1), min_df = 0)\n",
    "tfidf_matrix =  tfidf.fit_transform([' '.join(tokens) for tokens in tokens_by_rating])\n",
    "feature_names = tfidf.get_feature_names() \n",
    "tfidf_ranking5_uni = []\n",
    "dense = tfidf_matrix.todense()\n",
    "\n",
    "text = dense[5].tolist()[0]\n",
    "phrase_scores = [pair for pair in zip(range(0, len(text)), text) if pair[1] > 0]\n",
    "sorted_phrase_scores = sorted(phrase_scores, key=lambda t: t[1] * -1)\n",
    "phrases = []\n",
    "for phrase, score in [(feature_names[word_id], score) for (word_id, score) in sorted_phrase_scores][:40]:\n",
    "    tfidf_ranking5_uni.append(phrase)"
   ]
  },
  {
   "cell_type": "markdown",
   "metadata": {},
   "source": [
    "Униграммы положительных отзывов"
   ]
  },
  {
   "cell_type": "code",
   "execution_count": 52,
   "metadata": {},
   "outputs": [
    {
     "data": {
      "text/html": [
       "<div>\n",
       "<style scoped>\n",
       "    .dataframe tbody tr th:only-of-type {\n",
       "        vertical-align: middle;\n",
       "    }\n",
       "\n",
       "    .dataframe tbody tr th {\n",
       "        vertical-align: top;\n",
       "    }\n",
       "\n",
       "    .dataframe thead th {\n",
       "        text-align: right;\n",
       "    }\n",
       "</style>\n",
       "<table border=\"1\" class=\"dataframe\">\n",
       "  <thead>\n",
       "    <tr style=\"text-align: right;\">\n",
       "      <th></th>\n",
       "      <th>positive_uni</th>\n",
       "    </tr>\n",
       "  </thead>\n",
       "  <tbody>\n",
       "    <tr>\n",
       "      <th>0</th>\n",
       "      <td>банк</td>\n",
       "    </tr>\n",
       "    <tr>\n",
       "      <th>1</th>\n",
       "      <td>карта</td>\n",
       "    </tr>\n",
       "    <tr>\n",
       "      <th>2</th>\n",
       "      <td>очень</td>\n",
       "    </tr>\n",
       "    <tr>\n",
       "      <th>3</th>\n",
       "      <td>день</td>\n",
       "    </tr>\n",
       "    <tr>\n",
       "      <th>4</th>\n",
       "      <td>кредит</td>\n",
       "    </tr>\n",
       "  </tbody>\n",
       "</table>\n",
       "</div>"
      ],
      "text/plain": [
       "  positive_uni\n",
       "0         банк\n",
       "1        карта\n",
       "2        очень\n",
       "3         день\n",
       "4       кредит"
      ]
     },
     "execution_count": 52,
     "metadata": {},
     "output_type": "execute_result"
    }
   ],
   "source": [
    "rankings = pd.DataFrame({'positive_uni': tfidf_ranking5_uni})\n",
    "rankings.head()"
   ]
  },
  {
   "cell_type": "code",
   "execution_count": 53,
   "metadata": {},
   "outputs": [],
   "source": [
    "tfidf = TfidfVectorizer(analyzer='word', ngram_range=(2,2), min_df = 0)\n",
    "tfidf_matrix =  tfidf.fit_transform([' '.join(tokens) for tokens in tokens_by_rating])\n",
    "feature_names = tfidf.get_feature_names() \n",
    "tfidf_ranking5_bi = []\n",
    "dense = tfidf_matrix.todense()\n",
    "\n",
    "text = dense[5].tolist()[0]\n",
    "phrase_scores = [pair for pair in zip(range(0, len(text)), text) if pair[1] > 0]\n",
    "sorted_phrase_scores = sorted(phrase_scores, key=lambda t: t[1] * -1)\n",
    "phrases = []\n",
    "for phrase, score in [(feature_names[word_id], score) for (word_id, score) in sorted_phrase_scores][:40]:\n",
    "    tfidf_ranking5_bi.append(phrase)"
   ]
  },
  {
   "cell_type": "markdown",
   "metadata": {},
   "source": [
    "Биграммы положительных отзывов"
   ]
  },
  {
   "cell_type": "code",
   "execution_count": 54,
   "metadata": {},
   "outputs": [
    {
     "data": {
      "text/html": [
       "<div>\n",
       "<style scoped>\n",
       "    .dataframe tbody tr th:only-of-type {\n",
       "        vertical-align: middle;\n",
       "    }\n",
       "\n",
       "    .dataframe tbody tr th {\n",
       "        vertical-align: top;\n",
       "    }\n",
       "\n",
       "    .dataframe thead th {\n",
       "        text-align: right;\n",
       "    }\n",
       "</style>\n",
       "<table border=\"1\" class=\"dataframe\">\n",
       "  <thead>\n",
       "    <tr style=\"text-align: right;\">\n",
       "      <th></th>\n",
       "      <th>positive_bi</th>\n",
       "    </tr>\n",
       "  </thead>\n",
       "  <tbody>\n",
       "    <tr>\n",
       "      <th>0</th>\n",
       "      <td>интернет банк</td>\n",
       "    </tr>\n",
       "    <tr>\n",
       "      <th>1</th>\n",
       "      <td>кредитный карта</td>\n",
       "    </tr>\n",
       "    <tr>\n",
       "      <th>2</th>\n",
       "      <td>другой банк</td>\n",
       "    </tr>\n",
       "    <tr>\n",
       "      <th>3</th>\n",
       "      <td>сотрудник банк</td>\n",
       "    </tr>\n",
       "    <tr>\n",
       "      <th>4</th>\n",
       "      <td>клиент банк</td>\n",
       "    </tr>\n",
       "  </tbody>\n",
       "</table>\n",
       "</div>"
      ],
      "text/plain": [
       "       positive_bi\n",
       "0    интернет банк\n",
       "1  кредитный карта\n",
       "2      другой банк\n",
       "3   сотрудник банк\n",
       "4      клиент банк"
      ]
     },
     "execution_count": 54,
     "metadata": {},
     "output_type": "execute_result"
    }
   ],
   "source": [
    "rankings = pd.DataFrame({'positive_bi': tfidf_ranking5_bi})\n",
    "rankings.head()"
   ]
  },
  {
   "cell_type": "markdown",
   "metadata": {},
   "source": [
    "## Часть 2. Тематическое моделирование [20/100]"
   ]
  },
  {
   "cell_type": "markdown",
   "metadata": {},
   "source": [
    "Постройте несколько тематических моделей коллекции документов с разным числом тем. Приведите примеры понятных (интерпретируемых) тем.  \n",
    "Найдите темы, в которых упомянуты конкретные банки (Сбербанк, ВТБ, другой банк). Можете ли вы их прокомментировать / объяснить?"
   ]
  },
  {
   "cell_type": "code",
   "execution_count": 55,
   "metadata": {},
   "outputs": [
    {
     "name": "stderr",
     "output_type": "stream",
     "text": [
      "/opt/anaconda3/lib/python3.8/site-packages/gensim/similarities/__init__.py:15: UserWarning: The gensim.similarities.levenshtein submodule is disabled, because the optional Levenshtein package <https://pypi.org/project/python-Levenshtein/> is unavailable. Install Levenhstein (e.g. `pip install python-Levenshtein`) to suppress this warning.\n",
      "  warnings.warn(msg)\n"
     ]
    }
   ],
   "source": [
    "import gensim.corpora as corpora\n",
    "from gensim.models import ldamodel"
   ]
  },
  {
   "cell_type": "code",
   "execution_count": 56,
   "metadata": {},
   "outputs": [],
   "source": [
    "texts = [df['lemma'].iloc[i].split() for i in range(len(df))]\n",
    "dictionary = corpora.Dictionary(texts)\n",
    "corpus = [dictionary.doc2bow(text) for text in texts]"
   ]
  },
  {
   "cell_type": "code",
   "execution_count": 57,
   "metadata": {},
   "outputs": [],
   "source": [
    "random.seed(30)"
   ]
  },
  {
   "cell_type": "code",
   "execution_count": 58,
   "metadata": {},
   "outputs": [],
   "source": [
    "lda = ldamodel.LdaModel(corpus=corpus, id2word=dictionary, num_topics=20, alpha='auto', eta='auto', iterations = 20, passes = 5)"
   ]
  },
  {
   "cell_type": "code",
   "execution_count": 59,
   "metadata": {},
   "outputs": [
    {
     "data": {
      "text/plain": [
       "[(0,\n",
       "  '0.108*\"карта\" + 0.056*\"кредитный\" + 0.034*\"лимит\" + 0.027*\"ситибанк\" + 0.024*\"счёт\" + 0.022*\"выписка\" + 0.021*\"кредитка\" + 0.019*\"банк\" + 0.017*\"сити\" + 0.016*\"год\"'),\n",
       " (1,\n",
       "  '0.104*\"деньга\" + 0.101*\"банкомат\" + 0.023*\"карта\" + 0.018*\"счёт\" + 0.017*\"снять\" + 0.017*\"сумма\" + 0.014*\"день\" + 0.012*\"купюра\" + 0.012*\"операция\" + 0.012*\"выдать\"'),\n",
       " (2,\n",
       "  '0.039*\"день\" + 0.032*\"позвонить\" + 0.032*\"сказать\" + 0.024*\"банк\" + 0.022*\"отделение\" + 0.015*\"заявка\" + 0.012*\"центр\" + 0.011*\"вопрос\" + 0.011*\"время\" + 0.011*\"девушка\"'),\n",
       " (3,\n",
       "  '0.028*\"очередь\" + 0.021*\"отделение\" + 0.017*\"работать\" + 0.017*\"минута\" + 0.015*\"клиент\" + 0.014*\"касса\" + 0.013*\"человек\" + 0.011*\"время\" + 0.010*\"час\" + 0.009*\"один\"'),\n",
       " (4,\n",
       "  '0.085*\"заявление\" + 0.034*\"написать\" + 0.033*\"банк\" + 0.030*\"претензия\" + 0.029*\"день\" + 0.023*\"ответ\" + 0.022*\"мой\" + 0.021*\"срок\" + 0.017*\"месяц\" + 0.016*\"рассмотрение\"'),\n",
       " (5,\n",
       "  '0.128*\"вклад\" + 0.042*\"банк\" + 0.041*\"деньга\" + 0.035*\"открыть\" + 0.031*\"процент\" + 0.030*\"депозит\" + 0.022*\"счёт\" + 0.019*\"договор\" + 0.016*\"сумма\" + 0.016*\"открывать\"'),\n",
       " (6,\n",
       "  '0.046*\"банк\" + 0.035*\"договор\" + 0.021*\"средство\" + 0.014*\"денежный\" + 0.012*\"клиент\" + 0.012*\"счёт\" + 0.011*\"право\" + 0.009*\"рф\" + 0.009*\"г\" + 0.008*\"условие\"'),\n",
       " (7,\n",
       "  '0.099*\"сбербанк\" + 0.057*\"отделение\" + 0.050*\"г\" + 0.041*\"филиал\" + 0.025*\"москва\" + 0.022*\"сбер\" + 0.020*\"счёт\" + 0.018*\"ул\" + 0.016*\"петербург\" + 0.014*\"санкт\"'),\n",
       " (8,\n",
       "  '0.034*\"перевод\" + 0.032*\"счёт\" + 0.029*\"платёж\" + 0.023*\"система\" + 0.022*\"банк\" + 0.020*\"интернет\" + 0.018*\"деньга\" + 0.017*\"поддержка\" + 0.016*\"проблема\" + 0.014*\"операция\"'),\n",
       " (9,\n",
       "  '0.041*\"комиссия\" + 0.034*\"банк\" + 0.033*\"счёт\" + 0.023*\"рубль\" + 0.019*\"сумма\" + 0.017*\"альфа\" + 0.015*\"тариф\" + 0.015*\"доллар\" + 0.015*\"курс\" + 0.011*\"деньга\"'),\n",
       " (10,\n",
       "  '0.092*\"кредит\" + 0.024*\"банк\" + 0.024*\"документ\" + 0.018*\"кредитный\" + 0.014*\"договор\" + 0.013*\"заявка\" + 0.011*\"квартира\" + 0.011*\"сумма\" + 0.011*\"менеджер\" + 0.010*\"сделка\"'),\n",
       " (11,\n",
       "  '0.155*\"вс\" + 0.094*\"ещ\" + 0.072*\"сч\" + 0.061*\"м\" + 0.052*\"л\" + 0.045*\"тот\" + 0.026*\"быть\" + 0.026*\"плата\" + 0.025*\"росбанк\" + 0.023*\"мо\"'),\n",
       " (12,\n",
       "  '0.069*\"документ\" + 0.029*\"справка\" + 0.025*\"паспорт\" + 0.021*\"анкета\" + 0.017*\"копия\" + 0.016*\"заполнить\" + 0.013*\"подпись\" + 0.012*\"дать\" + 0.012*\"счёт\" + 0.010*\"подписать\"'),\n",
       " (13,\n",
       "  '0.024*\"говорить\" + 0.022*\"звонить\" + 0.015*\"банк\" + 0.011*\"знать\" + 0.011*\"такой\" + 0.010*\"телефон\" + 0.009*\"просто\" + 0.009*\"быть\" + 0.008*\"сказать\" + 0.008*\"человек\"'),\n",
       " (14,\n",
       "  '0.078*\"услуга\" + 0.073*\"смс\" + 0.031*\"мобильный\" + 0.030*\"подключить\" + 0.029*\"банк\" + 0.023*\"приходить\" + 0.023*\"номер\" + 0.023*\"телефон\" + 0.019*\"пароль\" + 0.018*\"карта\"'),\n",
       " (15,\n",
       "  '0.043*\"офис\" + 0.024*\"банк\" + 0.023*\"сайт\" + 0.015*\"интернет\" + 0.013*\"плюс\" + 0.013*\"минус\" + 0.012*\"обслуживание\" + 0.012*\"условие\" + 0.011*\"очень\" + 0.010*\"быстро\"'),\n",
       " (16,\n",
       "  '0.066*\"банк\" + 0.022*\"клиент\" + 0.021*\"очень\" + 0.012*\"работа\" + 0.011*\"сотрудник\" + 0.010*\"год\" + 0.009*\"вопрос\" + 0.009*\"проблема\" + 0.009*\"время\" + 0.007*\"обслуживание\"'),\n",
       " (17,\n",
       "  '0.062*\"кредит\" + 0.039*\"платёж\" + 0.039*\"банк\" + 0.034*\"сумма\" + 0.021*\"задолженность\" + 0.020*\"погашение\" + 0.016*\"месяц\" + 0.016*\"погасить\" + 0.013*\"кредитный\" + 0.013*\"год\"'),\n",
       " (18,\n",
       "  '0.055*\"банк\" + 0.031*\"сотрудник\" + 0.027*\"мой\" + 0.024*\"ваш\" + 0.018*\"информация\" + 0.017*\"письмо\" + 0.015*\"дать\" + 0.014*\"телефон\" + 0.014*\"клиент\" + 0.013*\"номер\"'),\n",
       " (19,\n",
       "  '0.240*\"карта\" + 0.022*\"карточка\" + 0.019*\"отделение\" + 0.016*\"получить\" + 0.013*\"новый\" + 0.011*\"заблокировать\" + 0.011*\"неделя\" + 0.011*\"дебетовый\" + 0.010*\"выпустить\" + 0.010*\"заявление\"')]"
      ]
     },
     "execution_count": 59,
     "metadata": {},
     "output_type": "execute_result"
    }
   ],
   "source": [
    "lda.show_topics(20)"
   ]
  },
  {
   "cell_type": "code",
   "execution_count": 60,
   "metadata": {},
   "outputs": [],
   "source": [
    "lda15 = ldamodel.LdaModel(corpus=corpus, id2word=dictionary, num_topics=15, alpha='auto', eta='auto', iterations = 20, passes = 5)"
   ]
  },
  {
   "cell_type": "code",
   "execution_count": 61,
   "metadata": {},
   "outputs": [
    {
     "data": {
      "text/plain": [
       "[(0,\n",
       "  '0.089*\"вклад\" + 0.042*\"банк\" + 0.032*\"счёт\" + 0.032*\"открыть\" + 0.024*\"деньга\" + 0.021*\"депозит\" + 0.021*\"процент\" + 0.017*\"договор\" + 0.015*\"открытие\" + 0.014*\"офис\"'),\n",
       " (1,\n",
       "  '0.057*\"день\" + 0.031*\"банк\" + 0.027*\"позвонить\" + 0.021*\"неделя\" + 0.021*\"сказать\" + 0.017*\"заявка\" + 0.017*\"заявление\" + 0.015*\"ответ\" + 0.015*\"звонить\" + 0.013*\"отделение\"'),\n",
       " (2,\n",
       "  '0.088*\"альфа\" + 0.087*\"услуга\" + 0.069*\"смс\" + 0.043*\"банк\" + 0.032*\"подключить\" + 0.026*\"мобильный\" + 0.026*\"приходить\" + 0.017*\"альф\" + 0.017*\"телефон\" + 0.013*\"отключить\"'),\n",
       " (3,\n",
       "  '0.068*\"кредит\" + 0.041*\"банк\" + 0.031*\"платёж\" + 0.031*\"сумма\" + 0.017*\"задолженность\" + 0.017*\"кредитный\" + 0.017*\"месяц\" + 0.015*\"погашение\" + 0.014*\"год\" + 0.013*\"процент\"'),\n",
       " (4,\n",
       "  '0.194*\"карта\" + 0.024*\"отделение\" + 0.018*\"заявление\" + 0.017*\"кредитный\" + 0.016*\"банк\" + 0.013*\"получить\" + 0.013*\"счёт\" + 0.011*\"карточка\" + 0.011*\"мой\" + 0.009*\"дебетовый\"'),\n",
       " (5,\n",
       "  '0.090*\"деньга\" + 0.086*\"банкомат\" + 0.023*\"счёт\" + 0.018*\"карта\" + 0.017*\"банк\" + 0.016*\"сумма\" + 0.015*\"снять\" + 0.015*\"день\" + 0.013*\"мой\" + 0.012*\"средство\"'),\n",
       " (6,\n",
       "  '0.059*\"банк\" + 0.020*\"очень\" + 0.018*\"клиент\" + 0.010*\"год\" + 0.009*\"работа\" + 0.008*\"обслуживание\" + 0.008*\"время\" + 0.008*\"проблема\" + 0.007*\"хороший\" + 0.007*\"работать\"'),\n",
       " (7,\n",
       "  '0.052*\"кредит\" + 0.044*\"документ\" + 0.023*\"банк\" + 0.016*\"кредитный\" + 0.014*\"менеджер\" + 0.014*\"анкета\" + 0.012*\"справка\" + 0.012*\"договор\" + 0.011*\"заявка\" + 0.009*\"квартира\"'),\n",
       " (8,\n",
       "  '0.052*\"банк\" + 0.017*\"мой\" + 0.014*\"договор\" + 0.013*\"клиент\" + 0.013*\"счёт\" + 0.010*\"средство\" + 0.010*\"заявление\" + 0.010*\"ответ\" + 0.008*\"письмо\" + 0.007*\"получить\"'),\n",
       " (9,\n",
       "  '0.043*\"карта\" + 0.028*\"комиссия\" + 0.026*\"банк\" + 0.019*\"лимит\" + 0.018*\"ситибанк\" + 0.017*\"рубль\" + 0.014*\"тариф\" + 0.014*\"сумма\" + 0.012*\"кредитный\" + 0.012*\"выписка\"'),\n",
       " (10,\n",
       "  '0.040*\"очередь\" + 0.030*\"отделение\" + 0.023*\"минута\" + 0.020*\"работать\" + 0.019*\"клиент\" + 0.019*\"касса\" + 0.015*\"время\" + 0.015*\"час\" + 0.014*\"человек\" + 0.014*\"офис\"'),\n",
       " (11,\n",
       "  '0.037*\"перевод\" + 0.030*\"счёт\" + 0.028*\"платёж\" + 0.022*\"система\" + 0.019*\"интернет\" + 0.016*\"поддержка\" + 0.015*\"банк\" + 0.014*\"проблема\" + 0.012*\"служба\" + 0.012*\"операция\"'),\n",
       " (12,\n",
       "  '0.017*\"говорить\" + 0.017*\"деньга\" + 0.015*\"сказать\" + 0.010*\"девушка\" + 0.010*\"быть\" + 0.010*\"такой\" + 0.010*\"знать\" + 0.009*\"просто\" + 0.008*\"вс\" + 0.007*\"думать\"'),\n",
       " (13,\n",
       "  '0.036*\"банк\" + 0.029*\"телефон\" + 0.021*\"звонить\" + 0.021*\"сотрудник\" + 0.020*\"звонок\" + 0.018*\"номер\" + 0.017*\"вопрос\" + 0.016*\"мой\" + 0.016*\"ваш\" + 0.013*\"оператор\"'),\n",
       " (14,\n",
       "  '0.053*\"г\" + 0.048*\"сбербанк\" + 0.043*\"отделение\" + 0.037*\"филиал\" + 0.019*\"москва\" + 0.018*\"сотрудник\" + 0.016*\"ул\" + 0.016*\"офис\" + 0.015*\"адрес\" + 0.013*\"обратиться\"')]"
      ]
     },
     "execution_count": 61,
     "metadata": {},
     "output_type": "execute_result"
    }
   ],
   "source": [
    "lda15.show_topics(15)"
   ]
  },
  {
   "cell_type": "code",
   "execution_count": 62,
   "metadata": {},
   "outputs": [],
   "source": [
    "lda10 = ldamodel.LdaModel(corpus=corpus, id2word=dictionary, num_topics=10, alpha='auto', eta='auto', iterations = 20, passes = 5)"
   ]
  },
  {
   "cell_type": "code",
   "execution_count": 63,
   "metadata": {},
   "outputs": [
    {
     "data": {
      "text/plain": [
       "[(0,\n",
       "  '0.080*\"деньга\" + 0.068*\"банкомат\" + 0.023*\"день\" + 0.018*\"счёт\" + 0.017*\"банк\" + 0.016*\"карта\" + 0.014*\"сумма\" + 0.013*\"снять\" + 0.012*\"заявление\" + 0.011*\"средство\"'),\n",
       " (1,\n",
       "  '0.134*\"карта\" + 0.019*\"банк\" + 0.015*\"заявление\" + 0.014*\"кредитный\" + 0.014*\"отделение\" + 0.012*\"день\" + 0.011*\"сказать\" + 0.011*\"получить\" + 0.009*\"позвонить\" + 0.009*\"карточка\"'),\n",
       " (2,\n",
       "  '0.077*\"вклад\" + 0.036*\"банк\" + 0.030*\"счёт\" + 0.030*\"деньга\" + 0.025*\"открыть\" + 0.018*\"процент\" + 0.018*\"депозит\" + 0.014*\"сумма\" + 0.012*\"день\" + 0.011*\"открытие\"'),\n",
       " (3,\n",
       "  '0.013*\"банк\" + 0.010*\"отделение\" + 0.010*\"работать\" + 0.010*\"человек\" + 0.009*\"клиент\" + 0.009*\"минута\" + 0.009*\"сказать\" + 0.009*\"говорить\" + 0.008*\"девушка\" + 0.008*\"очередь\"'),\n",
       " (4,\n",
       "  '0.033*\"банк\" + 0.020*\"мой\" + 0.016*\"сотрудник\" + 0.015*\"ответ\" + 0.014*\"заявление\" + 0.013*\"г\" + 0.012*\"отделение\" + 0.011*\"телефон\" + 0.010*\"вопрос\" + 0.010*\"номер\"'),\n",
       " (5,\n",
       "  '0.050*\"кредит\" + 0.041*\"банк\" + 0.028*\"платёж\" + 0.026*\"сумма\" + 0.017*\"месяц\" + 0.015*\"задолженность\" + 0.014*\"кредитный\" + 0.013*\"год\" + 0.013*\"погашение\" + 0.012*\"счёт\"'),\n",
       " (6,\n",
       "  '0.048*\"банк\" + 0.036*\"договор\" + 0.013*\"условие\" + 0.013*\"клиент\" + 0.009*\"услуга\" + 0.008*\"комиссия\" + 0.007*\"кредитный\" + 0.007*\"право\" + 0.006*\"сумма\" + 0.006*\"альфа\"'),\n",
       " (7,\n",
       "  '0.039*\"кредит\" + 0.029*\"документ\" + 0.028*\"банк\" + 0.024*\"день\" + 0.019*\"заявка\" + 0.012*\"сказать\" + 0.011*\"позвонить\" + 0.011*\"кредитный\" + 0.010*\"справка\" + 0.009*\"анкета\"'),\n",
       " (8,\n",
       "  '0.036*\"банк\" + 0.016*\"интернет\" + 0.015*\"счёт\" + 0.011*\"перевод\" + 0.009*\"проблема\" + 0.009*\"система\" + 0.008*\"комиссия\" + 0.007*\"операция\" + 0.007*\"платёж\" + 0.007*\"сайт\"'),\n",
       " (9,\n",
       "  '0.052*\"банк\" + 0.024*\"очень\" + 0.018*\"клиент\" + 0.013*\"обслуживание\" + 0.012*\"работа\" + 0.011*\"сотрудник\" + 0.011*\"отделение\" + 0.010*\"офис\" + 0.010*\"год\" + 0.008*\"быстро\"')]"
      ]
     },
     "execution_count": 63,
     "metadata": {},
     "output_type": "execute_result"
    }
   ],
   "source": [
    "lda10.show_topics(10)"
   ]
  },
  {
   "cell_type": "code",
   "execution_count": 64,
   "metadata": {},
   "outputs": [
    {
     "data": {
      "text/plain": [
       "Сбербанк России     0.168558\n",
       "Альфа-Банк          0.060660\n",
       "ВТБ 24              0.053870\n",
       "Русский Стандарт    0.049268\n",
       "Хоум Кредит Банк    0.045433\n",
       "Name: bank_name, dtype: float64"
      ]
     },
     "execution_count": 64,
     "metadata": {},
     "output_type": "execute_result"
    }
   ],
   "source": [
    "df.bank_name.value_counts(normalize=1).head()"
   ]
  },
  {
   "cell_type": "markdown",
   "metadata": {},
   "source": [
    "## Часть 3. Классификация текстов [40/100]"
   ]
  },
  {
   "cell_type": "markdown",
   "metadata": {},
   "source": [
    "Сформулируем для простоты задачу бинарной классификации: будем классифицировать на два класса, то есть, различать резко отрицательные отзывы (с оценкой 1) и положительные отзывы (с оценкой 5).\n",
    "1.   Составьте обучающее и тестовое множество: выберите из всего набора данных N1 отзывов с оценкой 1 и N2 отзывов с оценкой 5 (значение N1 и N2 – на ваше усмотрение). Используйте sklearn.model_selection.train_test_split для разделения множества отобранных документов на обучающее и тестовое.\n",
    "2.   Используйте любой известный вам алгоритм классификации текстов для решения задачи и получите baseline. Сравните разные варианты векторизации текста: использование только униграм, пар или троек слов или с использованием символьных $n$-грам.\n",
    "3.   Сравните, как изменяется качество решения задачи при использовании скрытых тем в качестве признаков:\n",
    "\n",
    "*   1-ый вариант: $tf-idf$ преобразование (sklearn.feature_extraction.text.TfidfTransformer) и сингулярное разложение (оно же – латентый семантический анализ) (sklearn.decomposition.TruncatedSVD)\n",
    "*   2-ой вариант: тематические модели LDA (sklearn.decomposition.LatentDirichletAllocation)\n",
    "\n",
    "Используйте accuracy и F-measure для оценки качества классификации.  \n",
    "Ниже написан примерный Pipeline для классификации текстов.  \n",
    "Эта часть задания может быть сделана с использованием sklearn."
   ]
  },
  {
   "cell_type": "code",
   "execution_count": 65,
   "metadata": {},
   "outputs": [],
   "source": [
    "df_class = df.loc[df['rating_grade'].isin([1, 5])][['bank_name', 'num_comments', 'lemma', 'words_count', 'rating_grade']].reset_index(drop=True)"
   ]
  },
  {
   "cell_type": "code",
   "execution_count": 66,
   "metadata": {},
   "outputs": [],
   "source": [
    "df_class['rating'] = df_class['rating_grade'].apply(lambda x: 1 if x == 5 else 0)"
   ]
  },
  {
   "cell_type": "code",
   "execution_count": 67,
   "metadata": {},
   "outputs": [],
   "source": [
    "df_class.to_pickle('df_class.zip')"
   ]
  },
  {
   "cell_type": "code",
   "execution_count": 68,
   "metadata": {},
   "outputs": [],
   "source": [
    "df_class = pd.read_pickle('df_class.zip')"
   ]
  },
  {
   "cell_type": "code",
   "execution_count": 69,
   "metadata": {},
   "outputs": [
    {
     "name": "stdout",
     "output_type": "stream",
     "text": [
      "<class 'pandas.core.frame.DataFrame'>\n",
      "RangeIndex: 62100 entries, 0 to 62099\n",
      "Data columns (total 6 columns):\n",
      " #   Column        Non-Null Count  Dtype  \n",
      "---  ------        --------------  -----  \n",
      " 0   bank_name     62100 non-null  object \n",
      " 1   num_comments  62100 non-null  int64  \n",
      " 2   lemma         62100 non-null  object \n",
      " 3   words_count   62100 non-null  int64  \n",
      " 4   rating_grade  62100 non-null  float64\n",
      " 5   rating        62100 non-null  int64  \n",
      "dtypes: float64(1), int64(3), object(2)\n",
      "memory usage: 2.8+ MB\n"
     ]
    }
   ],
   "source": [
    "df_class.info()"
   ]
  },
  {
   "cell_type": "code",
   "execution_count": 70,
   "metadata": {},
   "outputs": [
    {
     "data": {
      "text/html": [
       "<div>\n",
       "<style scoped>\n",
       "    .dataframe tbody tr th:only-of-type {\n",
       "        vertical-align: middle;\n",
       "    }\n",
       "\n",
       "    .dataframe tbody tr th {\n",
       "        vertical-align: top;\n",
       "    }\n",
       "\n",
       "    .dataframe thead th {\n",
       "        text-align: right;\n",
       "    }\n",
       "</style>\n",
       "<table border=\"1\" class=\"dataframe\">\n",
       "  <thead>\n",
       "    <tr style=\"text-align: right;\">\n",
       "      <th></th>\n",
       "      <th>bank_name</th>\n",
       "      <th>num_comments</th>\n",
       "      <th>lemma</th>\n",
       "      <th>words_count</th>\n",
       "      <th>rating_grade</th>\n",
       "      <th>rating</th>\n",
       "    </tr>\n",
       "  </thead>\n",
       "  <tbody>\n",
       "    <tr>\n",
       "      <th>0</th>\n",
       "      <td>Сбербанк России</td>\n",
       "      <td>2</td>\n",
       "      <td>открыть вклад счёт плюс этот зарплатный карта ...</td>\n",
       "      <td>342</td>\n",
       "      <td>1.0</td>\n",
       "      <td>0</td>\n",
       "    </tr>\n",
       "    <tr>\n",
       "      <th>1</th>\n",
       "      <td>Сбербанк России</td>\n",
       "      <td>1</td>\n",
       "      <td>добрый время вчера поступить смс уведомление б...</td>\n",
       "      <td>311</td>\n",
       "      <td>1.0</td>\n",
       "      <td>0</td>\n",
       "    </tr>\n",
       "    <tr>\n",
       "      <th>2</th>\n",
       "      <td>АктивКапитал Банк</td>\n",
       "      <td>0</td>\n",
       "      <td>г около час прийти указанный офис намерение по...</td>\n",
       "      <td>184</td>\n",
       "      <td>1.0</td>\n",
       "      <td>0</td>\n",
       "    </tr>\n",
       "    <tr>\n",
       "      <th>3</th>\n",
       "      <td>Сбербанк России</td>\n",
       "      <td>4</td>\n",
       "      <td>оплата коммунальный платёж пользоваться пласти...</td>\n",
       "      <td>57</td>\n",
       "      <td>1.0</td>\n",
       "      <td>0</td>\n",
       "    </tr>\n",
       "    <tr>\n",
       "      <th>4</th>\n",
       "      <td>Сбербанк России</td>\n",
       "      <td>16</td>\n",
       "      <td>апрель год прийти отделение сбербанк г чапаевс...</td>\n",
       "      <td>265</td>\n",
       "      <td>1.0</td>\n",
       "      <td>0</td>\n",
       "    </tr>\n",
       "  </tbody>\n",
       "</table>\n",
       "</div>"
      ],
      "text/plain": [
       "           bank_name  num_comments  \\\n",
       "0    Сбербанк России             2   \n",
       "1    Сбербанк России             1   \n",
       "2  АктивКапитал Банк             0   \n",
       "3    Сбербанк России             4   \n",
       "4    Сбербанк России            16   \n",
       "\n",
       "                                               lemma  words_count  \\\n",
       "0  открыть вклад счёт плюс этот зарплатный карта ...          342   \n",
       "1  добрый время вчера поступить смс уведомление б...          311   \n",
       "2  г около час прийти указанный офис намерение по...          184   \n",
       "3  оплата коммунальный платёж пользоваться пласти...           57   \n",
       "4  апрель год прийти отделение сбербанк г чапаевс...          265   \n",
       "\n",
       "   rating_grade  rating  \n",
       "0           1.0       0  \n",
       "1           1.0       0  \n",
       "2           1.0       0  \n",
       "3           1.0       0  \n",
       "4           1.0       0  "
      ]
     },
     "execution_count": 70,
     "metadata": {},
     "output_type": "execute_result"
    }
   ],
   "source": [
    "df_class.head()"
   ]
  },
  {
   "cell_type": "code",
   "execution_count": 71,
   "metadata": {},
   "outputs": [],
   "source": [
    "from sklearn.model_selection import train_test_split, GridSearchCV\n",
    "from sklearn.pipeline import Pipeline, FeatureUnion\n",
    "from sklearn.base import BaseEstimator, TransformerMixin\n",
    "from sklearn.feature_extraction.text import CountVectorizer, TfidfTransformer\n",
    "from sklearn.feature_extraction import DictVectorizer\n",
    "from sklearn.preprocessing import StandardScaler, OneHotEncoder\n",
    "from sklearn.decomposition import TruncatedSVD, LatentDirichletAllocation\n",
    "from sklearn.ensemble import RandomForestClassifier\n",
    "from sklearn.metrics import precision_score, recall_score, f1_score, accuracy_score, classification_report, confusion_matrix"
   ]
  },
  {
   "cell_type": "code",
   "execution_count": 72,
   "metadata": {},
   "outputs": [],
   "source": [
    "random.seed(30)"
   ]
  },
  {
   "cell_type": "code",
   "execution_count": 73,
   "metadata": {},
   "outputs": [],
   "source": [
    "features = ['bank_name', 'num_comments', 'lemma', 'words_count']\n",
    "target = ['rating']"
   ]
  },
  {
   "cell_type": "code",
   "execution_count": 74,
   "metadata": {},
   "outputs": [],
   "source": [
    "X_train, X_test, y_train, y_test = train_test_split(df_class[features], df_class[target], test_size=0.2)"
   ]
  },
  {
   "cell_type": "code",
   "execution_count": 75,
   "metadata": {},
   "outputs": [
    {
     "data": {
      "text/html": [
       "<div>\n",
       "<style scoped>\n",
       "    .dataframe tbody tr th:only-of-type {\n",
       "        vertical-align: middle;\n",
       "    }\n",
       "\n",
       "    .dataframe tbody tr th {\n",
       "        vertical-align: top;\n",
       "    }\n",
       "\n",
       "    .dataframe thead th {\n",
       "        text-align: right;\n",
       "    }\n",
       "</style>\n",
       "<table border=\"1\" class=\"dataframe\">\n",
       "  <thead>\n",
       "    <tr style=\"text-align: right;\">\n",
       "      <th></th>\n",
       "      <th>bank_name</th>\n",
       "      <th>num_comments</th>\n",
       "      <th>lemma</th>\n",
       "      <th>words_count</th>\n",
       "    </tr>\n",
       "  </thead>\n",
       "  <tbody>\n",
       "    <tr>\n",
       "      <th>22290</th>\n",
       "      <td>Хоум Кредит Банк</td>\n",
       "      <td>5</td>\n",
       "      <td>хоум кредит банк являться клиент ваш банк прек...</td>\n",
       "      <td>94</td>\n",
       "    </tr>\n",
       "    <tr>\n",
       "      <th>10361</th>\n",
       "      <td>Интеркоммерц Банк</td>\n",
       "      <td>0</td>\n",
       "      <td>держать банк карта причём выдать бесплатно гол...</td>\n",
       "      <td>169</td>\n",
       "    </tr>\n",
       "    <tr>\n",
       "      <th>18790</th>\n",
       "      <td>Лето Банк</td>\n",
       "      <td>3</td>\n",
       "      <td>подходящий слово запас охарактеризовать летоба...</td>\n",
       "      <td>431</td>\n",
       "    </tr>\n",
       "    <tr>\n",
       "      <th>8088</th>\n",
       "      <td>ОТП Банк</td>\n",
       "      <td>1</td>\n",
       "      <td>работать неквалифицированный безграмотный невн...</td>\n",
       "      <td>476</td>\n",
       "    </tr>\n",
       "    <tr>\n",
       "      <th>49535</th>\n",
       "      <td>Современный Коммерческий Банк (бывш. ДжиИ Мани...</td>\n",
       "      <td>14</td>\n",
       "      <td>итак история март прошлое год появиться кредит...</td>\n",
       "      <td>352</td>\n",
       "    </tr>\n",
       "  </tbody>\n",
       "</table>\n",
       "</div>"
      ],
      "text/plain": [
       "                                               bank_name  num_comments  \\\n",
       "22290                                   Хоум Кредит Банк             5   \n",
       "10361                                  Интеркоммерц Банк             0   \n",
       "18790                                          Лето Банк             3   \n",
       "8088                                            ОТП Банк             1   \n",
       "49535  Современный Коммерческий Банк (бывш. ДжиИ Мани...            14   \n",
       "\n",
       "                                                   lemma  words_count  \n",
       "22290  хоум кредит банк являться клиент ваш банк прек...           94  \n",
       "10361  держать банк карта причём выдать бесплатно гол...          169  \n",
       "18790  подходящий слово запас охарактеризовать летоба...          431  \n",
       "8088   работать неквалифицированный безграмотный невн...          476  \n",
       "49535  итак история март прошлое год появиться кредит...          352  "
      ]
     },
     "execution_count": 75,
     "metadata": {},
     "output_type": "execute_result"
    }
   ],
   "source": [
    "X_train.head()"
   ]
  },
  {
   "cell_type": "code",
   "execution_count": 76,
   "metadata": {},
   "outputs": [],
   "source": [
    "class TextSelector(BaseEstimator, TransformerMixin):\n",
    "    def __init__(self, key):\n",
    "        self.key = key\n",
    "\n",
    "    def fit(self, x, y=None):\n",
    "        return self\n",
    "\n",
    "    def transform(self, X):\n",
    "        return X[self.key]\n",
    "\n",
    "class ItemSelector(BaseEstimator, TransformerMixin):\n",
    "    def __init__(self, key):\n",
    "        self.key = key\n",
    "\n",
    "    def fit(self, x, y=None):\n",
    "        return self\n",
    "\n",
    "    def transform(self, X):\n",
    "        return X[[self.key]]"
   ]
  },
  {
   "cell_type": "code",
   "execution_count": 77,
   "metadata": {},
   "outputs": [
    {
     "data": {
      "text/plain": [
       "array([[ 0.14264276, -0.04026371, -0.07350636, ...,  0.01918202,\n",
       "         0.00321202, -0.02934896],\n",
       "       [ 0.24745528,  0.00765214,  0.18957516, ...,  0.01140881,\n",
       "         0.0180344 , -0.01352379],\n",
       "       [ 0.243568  , -0.1125002 , -0.0993269 , ...,  0.01247025,\n",
       "         0.01564848, -0.00263992],\n",
       "       ...,\n",
       "       [ 0.19149464, -0.13669408, -0.04805267, ...,  0.0112456 ,\n",
       "         0.02043128,  0.00795454],\n",
       "       [ 0.27163496, -0.0538362 ,  0.14805286, ..., -0.00479409,\n",
       "        -0.03066505,  0.02010392],\n",
       "       [ 0.3474845 ,  0.24987453,  0.03414288, ...,  0.01079881,\n",
       "         0.02350837,  0.0227051 ]])"
      ]
     },
     "execution_count": 77,
     "metadata": {},
     "output_type": "execute_result"
    }
   ],
   "source": [
    "text1 = Pipeline([\n",
    "    ('selector', TextSelector(key='lemma')),\n",
    "    ('cnt_vect', CountVectorizer()),\n",
    "    ('tfidf_tr', TfidfTransformer()),\n",
    "    ('lsa', TruncatedSVD(n_components=100))\n",
    "])\n",
    "text1.fit_transform(X_train)"
   ]
  },
  {
   "cell_type": "code",
   "execution_count": 78,
   "metadata": {},
   "outputs": [
    {
     "data": {
      "text/plain": [
       "array([[-0.78548797],\n",
       "       [-0.41957486],\n",
       "       [ 0.85868159],\n",
       "       ...,\n",
       "       [-0.09269249],\n",
       "       [-0.13660206],\n",
       "       [ 0.83428739]])"
      ]
     },
     "execution_count": 78,
     "metadata": {},
     "output_type": "execute_result"
    }
   ],
   "source": [
    "words_count = Pipeline([\n",
    "    ('selector', ItemSelector(key='words_count')),\n",
    "    ('std_scaler', StandardScaler())\n",
    "])\n",
    "words_count.fit_transform(X_train)"
   ]
  },
  {
   "cell_type": "code",
   "execution_count": 79,
   "metadata": {},
   "outputs": [
    {
     "data": {
      "text/plain": [
       "array([[ 0.18470593],\n",
       "       [-0.56444425],\n",
       "       [-0.11495414],\n",
       "       ...,\n",
       "       [ 1.38334622],\n",
       "       [-0.41461421],\n",
       "       [-0.26478418]])"
      ]
     },
     "execution_count": 79,
     "metadata": {},
     "output_type": "execute_result"
    }
   ],
   "source": [
    "num_comments = Pipeline([\n",
    "    ('selector', ItemSelector(key='num_comments')),\n",
    "    ('std_scaler', StandardScaler())\n",
    "])\n",
    "num_comments.fit_transform(X_train)"
   ]
  },
  {
   "cell_type": "code",
   "execution_count": 80,
   "metadata": {},
   "outputs": [
    {
     "data": {
      "text/plain": [
       "<49680x580 sparse matrix of type '<class 'numpy.float64'>'\n",
       "\twith 49680 stored elements in Compressed Sparse Row format>"
      ]
     },
     "execution_count": 80,
     "metadata": {},
     "output_type": "execute_result"
    }
   ],
   "source": [
    "bank_name = Pipeline([\n",
    "    ('selector', ItemSelector(key='bank_name')),\n",
    "    ('dict_vec', OneHotEncoder(categories=[df_class['bank_name'].unique()]))\n",
    "])\n",
    "bank_name.fit_transform(X_train)"
   ]
  },
  {
   "cell_type": "code",
   "execution_count": 81,
   "metadata": {},
   "outputs": [],
   "source": [
    "features1 = FeatureUnion([\n",
    "    ('text1', text1),\n",
    "    ('words_count', words_count),\n",
    "    ('num_comments', num_comments),\n",
    "    ('bank_name', bank_name),\n",
    "])"
   ]
  },
  {
   "cell_type": "code",
   "execution_count": 82,
   "metadata": {},
   "outputs": [
    {
     "name": "stderr",
     "output_type": "stream",
     "text": [
      "/opt/anaconda3/lib/python3.8/site-packages/sklearn/pipeline.py:335: DataConversionWarning: A column-vector y was passed when a 1d array was expected. Please change the shape of y to (n_samples,), for example using ravel().\n",
      "  self._final_estimator.fit(Xt, y, **fit_params_last_step)\n"
     ]
    },
    {
     "data": {
      "text/plain": [
       "Pipeline(steps=[('features',\n",
       "                 FeatureUnion(transformer_list=[('text1',\n",
       "                                                 Pipeline(steps=[('selector',\n",
       "                                                                  TextSelector(key='lemma')),\n",
       "                                                                 ('cnt_vect',\n",
       "                                                                  CountVectorizer()),\n",
       "                                                                 ('tfidf_tr',\n",
       "                                                                  TfidfTransformer()),\n",
       "                                                                 ('lsa',\n",
       "                                                                  TruncatedSVD(n_components=100))])),\n",
       "                                                ('words_count',\n",
       "                                                 Pipeline(steps=[('selector',\n",
       "                                                                  ItemSelector(key='words_count')),\n",
       "                                                                 ('std_scaler',\n",
       "                                                                  StandardScaler())])),\n",
       "                                                ('num_comme...\n",
       "       'Горбанк', 'Диамонд-Банк', 'Банк Инноваций и Развития',\n",
       "       'Городской Клиентский', 'Евразия-Центр',\n",
       "       'Русские Финансовые\\xa0Традиции', 'Уралвнешторгбанк',\n",
       "       'Европроминвест', 'ВИП-Банк', 'Судкомбанк', 'Максима', 'Петровка',\n",
       "       'МБТС-Банк', 'Алмазэргиэнбанк', 'Юникбанк', 'СПБРР', 'Витязь',\n",
       "       'Первое\\xa0О.\\xa0В. К.', 'Независимый Банк Развития', 'Бризбанк'],\n",
       "      dtype=object)]))]))])),\n",
       "                ('clf', RandomForestClassifier())])"
      ]
     },
     "execution_count": 82,
     "metadata": {},
     "output_type": "execute_result"
    }
   ],
   "source": [
    "clf1 = Pipeline([\n",
    "    ('features', features1),\n",
    "    ('clf', RandomForestClassifier())\n",
    "])\n",
    "clf1.fit(X_train, y_train)"
   ]
  },
  {
   "cell_type": "code",
   "execution_count": 83,
   "metadata": {},
   "outputs": [
    {
     "data": {
      "text/plain": [
       "0.8896135265700483"
      ]
     },
     "execution_count": 83,
     "metadata": {},
     "output_type": "execute_result"
    }
   ],
   "source": [
    "preds = clf1.predict(X_test)\n",
    "np.mean(preds == y_test['rating'])"
   ]
  },
  {
   "cell_type": "code",
   "execution_count": 84,
   "metadata": {},
   "outputs": [
    {
     "name": "stdout",
     "output_type": "stream",
     "text": [
      "Precision:   0.92\n",
      "Recall:   0.77\n",
      "F1-measure:   0.82\n",
      "Accuracy:   0.89\n",
      "              precision    recall  f1-score   support\n",
      "\n",
      "           0       0.88      0.99      0.93      9510\n",
      "           1       0.96      0.55      0.70      2910\n",
      "\n",
      "    accuracy                           0.89     12420\n",
      "   macro avg       0.92      0.77      0.82     12420\n",
      "weighted avg       0.90      0.89      0.88     12420\n",
      "\n"
     ]
    }
   ],
   "source": [
    "print(\"Precision: {0:6.2f}\".format(precision_score(y_test['rating'], preds, average='macro')))\n",
    "print(\"Recall: {0:6.2f}\".format(recall_score(y_test['rating'], preds, average='macro')))\n",
    "print(\"F1-measure: {0:6.2f}\".format(f1_score(y_test['rating'], preds, average='macro')))\n",
    "print(\"Accuracy: {0:6.2f}\".format(accuracy_score(y_test['rating'], preds)))\n",
    "print(classification_report(y_test['rating'], preds))"
   ]
  },
  {
   "cell_type": "code",
   "execution_count": 87,
   "metadata": {},
   "outputs": [
    {
     "data": {
      "text/plain": [
       "array([[ 0.14264276, -0.04026367, -0.07350611, ...,  0.01196892,\n",
       "         0.01774464, -0.01087508],\n",
       "       [ 0.24745528,  0.00765219,  0.18957539, ...,  0.040272  ,\n",
       "        -0.02819776,  0.02594984],\n",
       "       [ 0.243568  , -0.11250018, -0.09932698, ...,  0.01730997,\n",
       "         0.01866383,  0.00385446],\n",
       "       ...,\n",
       "       [ 0.19149464, -0.13669403, -0.04805285, ...,  0.03832567,\n",
       "         0.04894263,  0.03500387],\n",
       "       [ 0.27163496, -0.05383619,  0.1480531 , ...,  0.01252246,\n",
       "        -0.00288638,  0.01844252],\n",
       "       [ 0.3474845 ,  0.2498745 ,  0.03414302, ..., -0.01169241,\n",
       "         0.01490035,  0.05384217]])"
      ]
     },
     "execution_count": 87,
     "metadata": {},
     "output_type": "execute_result"
    }
   ],
   "source": [
    "text2 = Pipeline([\n",
    "    ('selector', TextSelector(key='lemma')),\n",
    "    ('cnt_vect', CountVectorizer(analyzer = 'char', ngram_range={4,6})),\n",
    "    ('tfidf_tr', TfidfTransformer()),\n",
    "    ('lsa', TruncatedSVD(n_components=100))\n",
    "])\n",
    "text1.fit_transform(X_train)"
   ]
  },
  {
   "cell_type": "code",
   "execution_count": 88,
   "metadata": {},
   "outputs": [],
   "source": [
    "features2 = FeatureUnion([\n",
    "    ('text2', text2),\n",
    "    ('words_count', words_count),\n",
    "    ('num_comments', num_comments),\n",
    "    ('bank_name', bank_name)\n",
    "])"
   ]
  },
  {
   "cell_type": "code",
   "execution_count": 89,
   "metadata": {},
   "outputs": [
    {
     "name": "stderr",
     "output_type": "stream",
     "text": [
      "/opt/anaconda3/lib/python3.8/site-packages/sklearn/pipeline.py:335: DataConversionWarning: A column-vector y was passed when a 1d array was expected. Please change the shape of y to (n_samples,), for example using ravel().\n",
      "  self._final_estimator.fit(Xt, y, **fit_params_last_step)\n"
     ]
    },
    {
     "data": {
      "text/plain": [
       "Pipeline(steps=[('features',\n",
       "                 FeatureUnion(transformer_list=[('text2',\n",
       "                                                 Pipeline(steps=[('selector',\n",
       "                                                                  TextSelector(key='lemma')),\n",
       "                                                                 ('cnt_vect',\n",
       "                                                                  CountVectorizer(analyzer='char',\n",
       "                                                                                  ngram_range={4,\n",
       "                                                                                               6})),\n",
       "                                                                 ('tfidf_tr',\n",
       "                                                                  TfidfTransformer()),\n",
       "                                                                 ('lsa',\n",
       "                                                                  TruncatedSVD(n_components=100))])),\n",
       "                                                ('words_count',\n",
       "                                                 Pipeline(steps=[('selector',\n",
       "                                                                  ItemSelector(key='words_count')),\n",
       "                                                                 ('std_scaler'...\n",
       "       'Горбанк', 'Диамонд-Банк', 'Банк Инноваций и Развития',\n",
       "       'Городской Клиентский', 'Евразия-Центр',\n",
       "       'Русские Финансовые\\xa0Традиции', 'Уралвнешторгбанк',\n",
       "       'Европроминвест', 'ВИП-Банк', 'Судкомбанк', 'Максима', 'Петровка',\n",
       "       'МБТС-Банк', 'Алмазэргиэнбанк', 'Юникбанк', 'СПБРР', 'Витязь',\n",
       "       'Первое\\xa0О.\\xa0В. К.', 'Независимый Банк Развития', 'Бризбанк'],\n",
       "      dtype=object)]))]))])),\n",
       "                ('clf', RandomForestClassifier())])"
      ]
     },
     "execution_count": 89,
     "metadata": {},
     "output_type": "execute_result"
    }
   ],
   "source": [
    "clf2 = Pipeline([\n",
    "    ('features', features2),\n",
    "    ('clf', RandomForestClassifier())\n",
    "])\n",
    "clf2.fit(X_train, y_train)"
   ]
  },
  {
   "cell_type": "code",
   "execution_count": 90,
   "metadata": {},
   "outputs": [
    {
     "data": {
      "text/plain": [
       "0.8900966183574879"
      ]
     },
     "execution_count": 90,
     "metadata": {},
     "output_type": "execute_result"
    }
   ],
   "source": [
    "preds = clf2.predict(X_test)\n",
    "np.mean(preds == y_test['rating'])"
   ]
  },
  {
   "cell_type": "code",
   "execution_count": 91,
   "metadata": {},
   "outputs": [
    {
     "name": "stdout",
     "output_type": "stream",
     "text": [
      "Precision:   0.93\n",
      "Recall:   0.77\n",
      "F1-measure:   0.82\n",
      "Accuracy:   0.89\n",
      "              precision    recall  f1-score   support\n",
      "\n",
      "           0       0.88      1.00      0.93      9510\n",
      "           1       0.97      0.55      0.70      2910\n",
      "\n",
      "    accuracy                           0.89     12420\n",
      "   macro avg       0.93      0.77      0.82     12420\n",
      "weighted avg       0.90      0.89      0.88     12420\n",
      "\n"
     ]
    }
   ],
   "source": [
    "print(\"Precision: {0:6.2f}\".format(precision_score(y_test['rating'], preds, average='macro')))\n",
    "print(\"Recall: {0:6.2f}\".format(recall_score(y_test['rating'], preds, average='macro')))\n",
    "print(\"F1-measure: {0:6.2f}\".format(f1_score(y_test['rating'], preds, average='macro')))\n",
    "print(\"Accuracy: {0:6.2f}\".format(accuracy_score(y_test['rating'], preds)))\n",
    "print(classification_report(y_test['rating'], preds))"
   ]
  },
  {
   "cell_type": "code",
   "execution_count": 92,
   "metadata": {},
   "outputs": [],
   "source": [
    "text3 = Pipeline([\n",
    "    ('selector', TextSelector(key='lemma')),\n",
    "    ('cnt_vect', CountVectorizer(analyzer = 'char', ngram_range={4,6})),\n",
    "    ('tfidf_tr', TfidfTransformer()),\n",
    "    ('lda', LatentDirichletAllocation(n_components=20, n_jobs=4, verbose=10))\n",
    "])"
   ]
  },
  {
   "cell_type": "code",
   "execution_count": 93,
   "metadata": {},
   "outputs": [],
   "source": [
    "features3 = FeatureUnion([\n",
    "    ('text3', text3),\n",
    "    ('words_count', words_count),\n",
    "    ('num_comments', num_comments),\n",
    "    ('bank_name', bank_name)\n",
    "])"
   ]
  },
  {
   "cell_type": "code",
   "execution_count": 94,
   "metadata": {},
   "outputs": [
    {
     "name": "stderr",
     "output_type": "stream",
     "text": [
      "[Parallel(n_jobs=4)]: Using backend LokyBackend with 4 concurrent workers.\n",
      "[Parallel(n_jobs=4)]: Done   2 out of   4 | elapsed:  1.7min remaining:  1.7min\n",
      "[Parallel(n_jobs=4)]: Done   4 out of   4 | elapsed:  1.8min remaining:    0.0s\n",
      "[Parallel(n_jobs=4)]: Done   4 out of   4 | elapsed:  1.8min finished\n"
     ]
    },
    {
     "name": "stdout",
     "output_type": "stream",
     "text": [
      "iteration: 1 of max_iter: 10\n"
     ]
    },
    {
     "name": "stderr",
     "output_type": "stream",
     "text": [
      "[Parallel(n_jobs=4)]: Using backend LokyBackend with 4 concurrent workers.\n",
      "[Parallel(n_jobs=4)]: Done   2 out of   4 | elapsed:  1.4min remaining:  1.4min\n",
      "[Parallel(n_jobs=4)]: Done   4 out of   4 | elapsed:  1.4min remaining:    0.0s\n",
      "[Parallel(n_jobs=4)]: Done   4 out of   4 | elapsed:  1.4min finished\n"
     ]
    },
    {
     "name": "stdout",
     "output_type": "stream",
     "text": [
      "iteration: 2 of max_iter: 10\n"
     ]
    },
    {
     "name": "stderr",
     "output_type": "stream",
     "text": [
      "[Parallel(n_jobs=4)]: Using backend LokyBackend with 4 concurrent workers.\n",
      "[Parallel(n_jobs=4)]: Done   2 out of   4 | elapsed:   52.5s remaining:   52.5s\n",
      "[Parallel(n_jobs=4)]: Done   4 out of   4 | elapsed:   53.4s remaining:    0.0s\n",
      "[Parallel(n_jobs=4)]: Done   4 out of   4 | elapsed:   53.4s finished\n"
     ]
    },
    {
     "name": "stdout",
     "output_type": "stream",
     "text": [
      "iteration: 3 of max_iter: 10\n"
     ]
    },
    {
     "name": "stderr",
     "output_type": "stream",
     "text": [
      "[Parallel(n_jobs=4)]: Using backend LokyBackend with 4 concurrent workers.\n",
      "[Parallel(n_jobs=4)]: Done   2 out of   4 | elapsed:   41.0s remaining:   41.0s\n",
      "[Parallel(n_jobs=4)]: Done   4 out of   4 | elapsed:   41.6s remaining:    0.0s\n",
      "[Parallel(n_jobs=4)]: Done   4 out of   4 | elapsed:   41.6s finished\n"
     ]
    },
    {
     "name": "stdout",
     "output_type": "stream",
     "text": [
      "iteration: 4 of max_iter: 10\n"
     ]
    },
    {
     "name": "stderr",
     "output_type": "stream",
     "text": [
      "[Parallel(n_jobs=4)]: Using backend LokyBackend with 4 concurrent workers.\n",
      "[Parallel(n_jobs=4)]: Done   2 out of   4 | elapsed:   36.2s remaining:   36.2s\n",
      "[Parallel(n_jobs=4)]: Done   4 out of   4 | elapsed:   36.9s remaining:    0.0s\n",
      "[Parallel(n_jobs=4)]: Done   4 out of   4 | elapsed:   36.9s finished\n"
     ]
    },
    {
     "name": "stdout",
     "output_type": "stream",
     "text": [
      "iteration: 5 of max_iter: 10\n"
     ]
    },
    {
     "name": "stderr",
     "output_type": "stream",
     "text": [
      "[Parallel(n_jobs=4)]: Using backend LokyBackend with 4 concurrent workers.\n",
      "[Parallel(n_jobs=4)]: Done   2 out of   4 | elapsed:   35.1s remaining:   35.1s\n",
      "[Parallel(n_jobs=4)]: Done   4 out of   4 | elapsed:   35.7s remaining:    0.0s\n",
      "[Parallel(n_jobs=4)]: Done   4 out of   4 | elapsed:   35.7s finished\n"
     ]
    },
    {
     "name": "stdout",
     "output_type": "stream",
     "text": [
      "iteration: 6 of max_iter: 10\n"
     ]
    },
    {
     "name": "stderr",
     "output_type": "stream",
     "text": [
      "[Parallel(n_jobs=4)]: Using backend LokyBackend with 4 concurrent workers.\n",
      "[Parallel(n_jobs=4)]: Done   2 out of   4 | elapsed:   35.1s remaining:   35.1s\n",
      "[Parallel(n_jobs=4)]: Done   4 out of   4 | elapsed:   35.7s remaining:    0.0s\n",
      "[Parallel(n_jobs=4)]: Done   4 out of   4 | elapsed:   35.7s finished\n"
     ]
    },
    {
     "name": "stdout",
     "output_type": "stream",
     "text": [
      "iteration: 7 of max_iter: 10\n"
     ]
    },
    {
     "name": "stderr",
     "output_type": "stream",
     "text": [
      "[Parallel(n_jobs=4)]: Using backend LokyBackend with 4 concurrent workers.\n",
      "[Parallel(n_jobs=4)]: Done   2 out of   4 | elapsed:   32.5s remaining:   32.5s\n",
      "[Parallel(n_jobs=4)]: Done   4 out of   4 | elapsed:   33.1s remaining:    0.0s\n",
      "[Parallel(n_jobs=4)]: Done   4 out of   4 | elapsed:   33.1s finished\n"
     ]
    },
    {
     "name": "stdout",
     "output_type": "stream",
     "text": [
      "iteration: 8 of max_iter: 10\n"
     ]
    },
    {
     "name": "stderr",
     "output_type": "stream",
     "text": [
      "[Parallel(n_jobs=4)]: Using backend LokyBackend with 4 concurrent workers.\n",
      "[Parallel(n_jobs=4)]: Done   2 out of   4 | elapsed:   33.3s remaining:   33.3s\n",
      "[Parallel(n_jobs=4)]: Done   4 out of   4 | elapsed:   33.9s remaining:    0.0s\n",
      "[Parallel(n_jobs=4)]: Done   4 out of   4 | elapsed:   33.9s finished\n"
     ]
    },
    {
     "name": "stdout",
     "output_type": "stream",
     "text": [
      "iteration: 9 of max_iter: 10\n"
     ]
    },
    {
     "name": "stderr",
     "output_type": "stream",
     "text": [
      "[Parallel(n_jobs=4)]: Using backend LokyBackend with 4 concurrent workers.\n",
      "[Parallel(n_jobs=4)]: Done   2 out of   4 | elapsed:   34.1s remaining:   34.1s\n",
      "[Parallel(n_jobs=4)]: Done   4 out of   4 | elapsed:   34.8s remaining:    0.0s\n",
      "[Parallel(n_jobs=4)]: Done   4 out of   4 | elapsed:   34.8s finished\n"
     ]
    },
    {
     "name": "stdout",
     "output_type": "stream",
     "text": [
      "iteration: 10 of max_iter: 10\n"
     ]
    },
    {
     "name": "stderr",
     "output_type": "stream",
     "text": [
      "[Parallel(n_jobs=4)]: Using backend LokyBackend with 4 concurrent workers.\n",
      "[Parallel(n_jobs=4)]: Done   2 out of   4 | elapsed:   11.7s remaining:   11.7s\n",
      "[Parallel(n_jobs=4)]: Done   4 out of   4 | elapsed:   12.2s remaining:    0.0s\n",
      "[Parallel(n_jobs=4)]: Done   4 out of   4 | elapsed:   12.2s finished\n",
      "[Parallel(n_jobs=4)]: Using backend LokyBackend with 4 concurrent workers.\n",
      "[Parallel(n_jobs=4)]: Done   2 out of   4 | elapsed:   11.0s remaining:   11.0s\n",
      "[Parallel(n_jobs=4)]: Done   4 out of   4 | elapsed:   11.4s remaining:    0.0s\n",
      "[Parallel(n_jobs=4)]: Done   4 out of   4 | elapsed:   11.4s finished\n",
      "/opt/anaconda3/lib/python3.8/site-packages/sklearn/pipeline.py:335: DataConversionWarning: A column-vector y was passed when a 1d array was expected. Please change the shape of y to (n_samples,), for example using ravel().\n",
      "  self._final_estimator.fit(Xt, y, **fit_params_last_step)\n",
      "[Parallel(n_jobs=4)]: Using backend ThreadingBackend with 4 concurrent workers.\n"
     ]
    },
    {
     "name": "stdout",
     "output_type": "stream",
     "text": [
      "building tree 1 of 100\n",
      "building tree 2 of 100\n",
      "building tree 3 of 100\n",
      "building tree 4 of 100\n",
      "building tree 5 of 100\n",
      "building tree 6 of 100\n",
      "building tree 7 of 100\n",
      "building tree 8 of 100\n",
      "building tree 9 of 100\n",
      "building tree 10 of 100\n",
      "building tree 11 of 100\n",
      "building tree 12 of 100\n"
     ]
    },
    {
     "name": "stderr",
     "output_type": "stream",
     "text": [
      "[Parallel(n_jobs=4)]: Done   5 tasks      | elapsed:    1.1s\n"
     ]
    },
    {
     "name": "stdout",
     "output_type": "stream",
     "text": [
      "building tree 13 of 100\n",
      "building tree 14 of 100\n",
      "building tree 15 of 100\n",
      "building tree 16 of 100\n"
     ]
    },
    {
     "name": "stderr",
     "output_type": "stream",
     "text": [
      "[Parallel(n_jobs=4)]: Done  10 tasks      | elapsed:    1.7s\n"
     ]
    },
    {
     "name": "stdout",
     "output_type": "stream",
     "text": [
      "building tree 17 of 100\n",
      "building tree 18 of 100\n",
      "building tree 19 of 100\n",
      "building tree 20 of 100\n"
     ]
    },
    {
     "name": "stderr",
     "output_type": "stream",
     "text": [
      "[Parallel(n_jobs=4)]: Done  17 tasks      | elapsed:    2.7s\n"
     ]
    },
    {
     "name": "stdout",
     "output_type": "stream",
     "text": [
      "building tree 21 of 100\n",
      "building tree 22 of 100\n",
      "building tree 23 of 100\n",
      "building tree 24 of 100\n",
      "building tree 25 of 100\n",
      "building tree 26 of 100\n",
      "building tree 27 of 100\n",
      "building tree 28 of 100\n"
     ]
    },
    {
     "name": "stderr",
     "output_type": "stream",
     "text": [
      "[Parallel(n_jobs=4)]: Done  24 tasks      | elapsed:    3.4s\n"
     ]
    },
    {
     "name": "stdout",
     "output_type": "stream",
     "text": [
      "building tree 29 of 100\n",
      "building tree 30 of 100\n",
      "building tree 31 of 100\n",
      "building tree 32 of 100\n",
      "building tree 33 of 100\n",
      "building tree 34 of 100\n",
      "building tree 35 of 100\n",
      "building tree 36 of 100\n",
      "building tree 37 of 100\n",
      "building tree 38 of 100\n",
      "building tree 39 of 100\n",
      "building tree 40 of 100\n"
     ]
    },
    {
     "name": "stderr",
     "output_type": "stream",
     "text": [
      "[Parallel(n_jobs=4)]: Done  33 tasks      | elapsed:    5.0s\n"
     ]
    },
    {
     "name": "stdout",
     "output_type": "stream",
     "text": [
      "building tree 41 of 100\n",
      "building tree 42 of 100\n",
      "building tree 43 of 100\n",
      "building tree 44 of 100\n",
      "building tree 45 of 100\n",
      "building tree 46 of 100\n",
      "building tree 47 of 100\n",
      "building tree 48 of 100\n"
     ]
    },
    {
     "name": "stderr",
     "output_type": "stream",
     "text": [
      "[Parallel(n_jobs=4)]: Done  42 tasks      | elapsed:    6.1s\n"
     ]
    },
    {
     "name": "stdout",
     "output_type": "stream",
     "text": [
      "building tree 49 of 100\n",
      "building tree 50 of 100\n",
      "building tree 51 of 100\n",
      "building tree 52 of 100\n",
      "building tree 53 of 100\n",
      "building tree 54 of 100\n",
      "building tree 55 of 100\n",
      "building tree 56 of 100\n"
     ]
    },
    {
     "name": "stderr",
     "output_type": "stream",
     "text": [
      "[Parallel(n_jobs=4)]: Done  53 tasks      | elapsed:    7.7s\n"
     ]
    },
    {
     "name": "stdout",
     "output_type": "stream",
     "text": [
      "building tree 57 of 100\n",
      "building tree 58 of 100\n",
      "building tree 59 of 100\n",
      "building tree 60 of 100\n",
      "building tree 61 of 100\n",
      "building tree 62 of 100\n",
      "building tree 63 of 100\n",
      "building tree 64 of 100\n",
      "building tree 65 of 100\n",
      "building tree 66 of 100\n",
      "building tree 67 of 100\n",
      "building tree 68 of 100\n"
     ]
    },
    {
     "name": "stderr",
     "output_type": "stream",
     "text": [
      "[Parallel(n_jobs=4)]: Done  64 tasks      | elapsed:    8.9s\n"
     ]
    },
    {
     "name": "stdout",
     "output_type": "stream",
     "text": [
      "building tree 69 of 100\n",
      "building tree 70 of 100\n",
      "building tree 71 of 100\n",
      "building tree 72 of 100\n",
      "building tree 73 of 100\n",
      "building tree 74 of 100\n",
      "building tree 75 of 100\n",
      "building tree 76 of 100\n",
      "building tree 77 of 100\n",
      "building tree 78 of 100\n",
      "building tree 79 of 100\n",
      "building tree 80 of 100\n",
      "building tree 81 of 100\n",
      "building tree 82 of 100\n",
      "building tree 83 of 100\n"
     ]
    },
    {
     "name": "stderr",
     "output_type": "stream",
     "text": [
      "[Parallel(n_jobs=4)]: Done  77 tasks      | elapsed:   10.9s\n"
     ]
    },
    {
     "name": "stdout",
     "output_type": "stream",
     "text": [
      "building tree 84 of 100\n",
      "building tree 85 of 100\n",
      "building tree 86 of 100\n",
      "building tree 87 of 100\n",
      "building tree 88 of 100\n",
      "building tree 89 of 100\n",
      "building tree 90 of 100\n",
      "building tree 91 of 100\n",
      "building tree 92 of 100\n",
      "building tree 93 of 100\n"
     ]
    },
    {
     "name": "stderr",
     "output_type": "stream",
     "text": [
      "[Parallel(n_jobs=4)]: Done  90 tasks      | elapsed:   12.6s\n"
     ]
    },
    {
     "name": "stdout",
     "output_type": "stream",
     "text": [
      "building tree 94 of 100\n",
      "building tree 95 of 100\n",
      "building tree 96 of 100\n",
      "building tree 97 of 100\n",
      "building tree 98 of 100\n",
      "building tree 99 of 100\n",
      "building tree 100 of 100\n"
     ]
    },
    {
     "name": "stderr",
     "output_type": "stream",
     "text": [
      "[Parallel(n_jobs=4)]: Done 100 out of 100 | elapsed:   13.9s finished\n"
     ]
    },
    {
     "data": {
      "text/plain": [
       "Pipeline(steps=[('features',\n",
       "                 FeatureUnion(transformer_list=[('text3',\n",
       "                                                 Pipeline(steps=[('selector',\n",
       "                                                                  TextSelector(key='lemma')),\n",
       "                                                                 ('cnt_vect',\n",
       "                                                                  CountVectorizer(analyzer='char',\n",
       "                                                                                  ngram_range={4,\n",
       "                                                                                               6})),\n",
       "                                                                 ('tfidf_tr',\n",
       "                                                                  TfidfTransformer()),\n",
       "                                                                 ('lda',\n",
       "                                                                  LatentDirichletAllocation(n_components=20,\n",
       "                                                                                            n_jobs=4,\n",
       "                                                                                            verbose=10))])),\n",
       "                                                ('words_count',\n",
       "                                                 Pipeline(steps=[('selector',\n",
       "                                                                  ItemSelector(k...\n",
       "       'Горбанк', 'Диамонд-Банк', 'Банк Инноваций и Развития',\n",
       "       'Городской Клиентский', 'Евразия-Центр',\n",
       "       'Русские Финансовые\\xa0Традиции', 'Уралвнешторгбанк',\n",
       "       'Европроминвест', 'ВИП-Банк', 'Судкомбанк', 'Максима', 'Петровка',\n",
       "       'МБТС-Банк', 'Алмазэргиэнбанк', 'Юникбанк', 'СПБРР', 'Витязь',\n",
       "       'Первое\\xa0О.\\xa0В. К.', 'Независимый Банк Развития', 'Бризбанк'],\n",
       "      dtype=object)]))]))])),\n",
       "                ('clf', RandomForestClassifier(n_jobs=4, verbose=10))])"
      ]
     },
     "execution_count": 94,
     "metadata": {},
     "output_type": "execute_result"
    }
   ],
   "source": [
    "clf3 = Pipeline([\n",
    "    ('features', features3),\n",
    "    ('clf', RandomForestClassifier(n_jobs=4, verbose=10))\n",
    "])\n",
    "clf3.fit(X_train, y_train)"
   ]
  },
  {
   "cell_type": "code",
   "execution_count": 95,
   "metadata": {},
   "outputs": [
    {
     "name": "stderr",
     "output_type": "stream",
     "text": [
      "[Parallel(n_jobs=4)]: Using backend LokyBackend with 4 concurrent workers.\n",
      "[Parallel(n_jobs=4)]: Done   2 out of   4 | elapsed:    3.1s remaining:    3.1s\n",
      "[Parallel(n_jobs=4)]: Done   4 out of   4 | elapsed:    3.2s remaining:    0.0s\n",
      "[Parallel(n_jobs=4)]: Done   4 out of   4 | elapsed:    3.2s finished\n",
      "[Parallel(n_jobs=4)]: Using backend ThreadingBackend with 4 concurrent workers.\n",
      "[Parallel(n_jobs=4)]: Done   5 tasks      | elapsed:    0.0s\n",
      "[Parallel(n_jobs=4)]: Done  10 tasks      | elapsed:    0.0s\n",
      "[Parallel(n_jobs=4)]: Done  17 tasks      | elapsed:    0.0s\n",
      "[Parallel(n_jobs=4)]: Done  24 tasks      | elapsed:    0.0s\n",
      "[Parallel(n_jobs=4)]: Done  33 tasks      | elapsed:    0.0s\n",
      "[Parallel(n_jobs=4)]: Done  42 tasks      | elapsed:    0.0s\n",
      "[Parallel(n_jobs=4)]: Done  53 tasks      | elapsed:    0.0s\n",
      "[Parallel(n_jobs=4)]: Done  64 tasks      | elapsed:    0.1s\n",
      "[Parallel(n_jobs=4)]: Done  77 tasks      | elapsed:    0.1s\n",
      "[Parallel(n_jobs=4)]: Done  90 tasks      | elapsed:    0.1s\n",
      "[Parallel(n_jobs=4)]: Done 100 out of 100 | elapsed:    0.1s finished\n"
     ]
    },
    {
     "data": {
      "text/plain": [
       "0.8149758454106281"
      ]
     },
     "execution_count": 95,
     "metadata": {},
     "output_type": "execute_result"
    }
   ],
   "source": [
    "preds = clf3.predict(X_test)\n",
    "np.mean(preds == y_test['rating'])"
   ]
  },
  {
   "cell_type": "code",
   "execution_count": 96,
   "metadata": {},
   "outputs": [
    {
     "name": "stdout",
     "output_type": "stream",
     "text": [
      "Precision:   0.79\n",
      "Recall:   0.64\n",
      "F1-measure:   0.66\n",
      "Accuracy:   0.81\n",
      "              precision    recall  f1-score   support\n",
      "\n",
      "           0       0.82      0.97      0.89      9510\n",
      "           1       0.77      0.30      0.43      2910\n",
      "\n",
      "    accuracy                           0.81     12420\n",
      "   macro avg       0.79      0.64      0.66     12420\n",
      "weighted avg       0.81      0.81      0.78     12420\n",
      "\n"
     ]
    }
   ],
   "source": [
    "print(\"Precision: {0:6.2f}\".format(precision_score(y_test['rating'], preds, average='macro')))\n",
    "print(\"Recall: {0:6.2f}\".format(recall_score(y_test['rating'], preds, average='macro')))\n",
    "print(\"F1-measure: {0:6.2f}\".format(f1_score(y_test['rating'], preds, average='macro')))\n",
    "print(\"Accuracy: {0:6.2f}\".format(accuracy_score(y_test['rating'], preds)))\n",
    "print(classification_report(y_test['rating'], preds))"
   ]
  }
 ],
 "metadata": {
  "kernelspec": {
   "display_name": "Python 3",
   "language": "python",
   "name": "python3"
  },
  "language_info": {
   "codemirror_mode": {
    "name": "ipython",
    "version": 3
   },
   "file_extension": ".py",
   "mimetype": "text/x-python",
   "name": "python",
   "nbconvert_exporter": "python",
   "pygments_lexer": "ipython3",
   "version": "3.8.5"
  }
 },
 "nbformat": 4,
 "nbformat_minor": 4
}
