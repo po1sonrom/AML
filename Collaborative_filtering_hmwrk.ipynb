{
  "nbformat": 4,
  "nbformat_minor": 0,
  "metadata": {
    "colab": {
      "name": "Collaborative filtering_hmwrk.ipynb",
      "provenance": [],
      "toc_visible": true,
      "authorship_tag": "ABX9TyO1ws4/NILYgo6r+/c8gnVA"
    },
    "kernelspec": {
      "name": "python3",
      "display_name": "Python 3"
    }
  },
  "cells": [
    {
      "cell_type": "markdown",
      "metadata": {
        "id": "ojBGMx93kMtF"
      },
      "source": [
        "# Домашняя работа\r\n",
        "### Тема: Коллаборативная фильтрация"
      ]
    },
    {
      "cell_type": "markdown",
      "metadata": {
        "id": "gn1O1576kaKf"
      },
      "source": [
        "**Пакет SURPRISE**\r\n",
        "\r\n",
        "*   Используйте данные MovieLens 1M\r\n",
        "*   Можно использовать любые модели из пакета\r\n",
        "*   получите RMSE на тестовом сете 0.87 и ниже\r\n",
        "\r\n",
        "Комментарий преподавателя :  \r\n",
        "В ДЗ на датасет 1М может не хватить RAM. Можно сделать на 100K. Качество RMSE предлагаю считать на основе CrossValidation (5 фолдов), а не отложенном датасете."
      ]
    },
    {
      "cell_type": "code",
      "metadata": {
        "colab": {
          "base_uri": "https://localhost:8080/"
        },
        "id": "waiPfWj2p6VG",
        "outputId": "184e6609-42ca-4abd-9fad-bb7d05700ada"
      },
      "source": [
        "!pip install surprise"
      ],
      "execution_count": 1,
      "outputs": [
        {
          "output_type": "stream",
          "text": [
            "Requirement already satisfied: surprise in /usr/local/lib/python3.6/dist-packages (0.1)\n",
            "Requirement already satisfied: scikit-surprise in /usr/local/lib/python3.6/dist-packages (from surprise) (1.1.1)\n",
            "Requirement already satisfied: numpy>=1.11.2 in /usr/local/lib/python3.6/dist-packages (from scikit-surprise->surprise) (1.19.4)\n",
            "Requirement already satisfied: six>=1.10.0 in /usr/local/lib/python3.6/dist-packages (from scikit-surprise->surprise) (1.15.0)\n",
            "Requirement already satisfied: joblib>=0.11 in /usr/local/lib/python3.6/dist-packages (from scikit-surprise->surprise) (1.0.0)\n",
            "Requirement already satisfied: scipy>=1.0.0 in /usr/local/lib/python3.6/dist-packages (from scikit-surprise->surprise) (1.4.1)\n"
          ],
          "name": "stdout"
        }
      ]
    },
    {
      "cell_type": "code",
      "metadata": {
        "id": "RZrj8GYMkLF9"
      },
      "source": [
        "from surprise import Dataset, accuracy, Reader, SVD, KNNBaseline\r\n",
        "from surprise.model_selection import train_test_split, KFold\r\n",
        "from statistics import mean\r\n",
        "import pandas as pd"
      ],
      "execution_count": 2,
      "outputs": []
    },
    {
      "cell_type": "code",
      "metadata": {
        "id": "VCDy3kNEpCwr"
      },
      "source": [
        "movies = pd.read_csv('movies.csv')\r\n",
        "ratings = pd.read_csv(r'ratings.csv')"
      ],
      "execution_count": 3,
      "outputs": []
    },
    {
      "cell_type": "code",
      "metadata": {
        "id": "Gs-F_tuJpHh8"
      },
      "source": [
        "movies_with_ratings = movies.join(ratings.set_index('movieId'), on='movieId').reset_index(drop=True)\r\n",
        "movies_with_ratings.dropna(inplace=True)"
      ],
      "execution_count": 4,
      "outputs": []
    },
    {
      "cell_type": "code",
      "metadata": {
        "id": "5PuM8pvFpION"
      },
      "source": [
        "dataset = pd.DataFrame({\r\n",
        "    'uid': movies_with_ratings.userId,\r\n",
        "    'iid': movies_with_ratings.title,\r\n",
        "    'rating': movies_with_ratings.rating\r\n",
        "})"
      ],
      "execution_count": 5,
      "outputs": []
    },
    {
      "cell_type": "code",
      "metadata": {
        "colab": {
          "base_uri": "https://localhost:8080/",
          "height": 197
        },
        "id": "Ee851vfBpIvp",
        "outputId": "87f7e80e-c4ce-4334-82fa-e2a8499c7821"
      },
      "source": [
        "dataset.head()"
      ],
      "execution_count": 6,
      "outputs": [
        {
          "output_type": "execute_result",
          "data": {
            "text/html": [
              "<div>\n",
              "<style scoped>\n",
              "    .dataframe tbody tr th:only-of-type {\n",
              "        vertical-align: middle;\n",
              "    }\n",
              "\n",
              "    .dataframe tbody tr th {\n",
              "        vertical-align: top;\n",
              "    }\n",
              "\n",
              "    .dataframe thead th {\n",
              "        text-align: right;\n",
              "    }\n",
              "</style>\n",
              "<table border=\"1\" class=\"dataframe\">\n",
              "  <thead>\n",
              "    <tr style=\"text-align: right;\">\n",
              "      <th></th>\n",
              "      <th>uid</th>\n",
              "      <th>iid</th>\n",
              "      <th>rating</th>\n",
              "    </tr>\n",
              "  </thead>\n",
              "  <tbody>\n",
              "    <tr>\n",
              "      <th>0</th>\n",
              "      <td>4.0</td>\n",
              "      <td>Toy Story (1995)</td>\n",
              "      <td>4.0</td>\n",
              "    </tr>\n",
              "    <tr>\n",
              "      <th>1</th>\n",
              "      <td>10.0</td>\n",
              "      <td>Toy Story (1995)</td>\n",
              "      <td>5.0</td>\n",
              "    </tr>\n",
              "    <tr>\n",
              "      <th>2</th>\n",
              "      <td>14.0</td>\n",
              "      <td>Toy Story (1995)</td>\n",
              "      <td>4.5</td>\n",
              "    </tr>\n",
              "    <tr>\n",
              "      <th>3</th>\n",
              "      <td>15.0</td>\n",
              "      <td>Toy Story (1995)</td>\n",
              "      <td>4.0</td>\n",
              "    </tr>\n",
              "    <tr>\n",
              "      <th>4</th>\n",
              "      <td>22.0</td>\n",
              "      <td>Toy Story (1995)</td>\n",
              "      <td>4.0</td>\n",
              "    </tr>\n",
              "  </tbody>\n",
              "</table>\n",
              "</div>"
            ],
            "text/plain": [
              "    uid               iid  rating\n",
              "0   4.0  Toy Story (1995)     4.0\n",
              "1  10.0  Toy Story (1995)     5.0\n",
              "2  14.0  Toy Story (1995)     4.5\n",
              "3  15.0  Toy Story (1995)     4.0\n",
              "4  22.0  Toy Story (1995)     4.0"
            ]
          },
          "metadata": {
            "tags": []
          },
          "execution_count": 6
        }
      ]
    },
    {
      "cell_type": "code",
      "metadata": {
        "colab": {
          "base_uri": "https://localhost:8080/"
        },
        "id": "HXTwKBCrLuh-",
        "outputId": "fc2f1a89-b082-4f9a-e386-28680e66e41a"
      },
      "source": [
        "dataset.rating.min(), dataset.rating.max()"
      ],
      "execution_count": 7,
      "outputs": [
        {
          "output_type": "execute_result",
          "data": {
            "text/plain": [
              "(0.5, 5.0)"
            ]
          },
          "metadata": {
            "tags": []
          },
          "execution_count": 7
        }
      ]
    },
    {
      "cell_type": "code",
      "metadata": {
        "id": "PMq-Zz7ipI5x"
      },
      "source": [
        "reader = Reader(rating_scale=(0.5, 5.0))\r\n",
        "data = Dataset.load_from_df(dataset, reader)"
      ],
      "execution_count": 8,
      "outputs": []
    },
    {
      "cell_type": "code",
      "metadata": {
        "id": "lO0jb4SrpJbG"
      },
      "source": [
        "trainset, testset = train_test_split(data, test_size=.60)"
      ],
      "execution_count": 9,
      "outputs": []
    },
    {
      "cell_type": "code",
      "metadata": {
        "id": "67cx49lRq1On"
      },
      "source": [
        "kf = KFold(n_splits=5)"
      ],
      "execution_count": 10,
      "outputs": []
    },
    {
      "cell_type": "markdown",
      "metadata": {
        "id": "1oQ97XyWs_de"
      },
      "source": [
        "**Пробуем SVD**"
      ]
    },
    {
      "cell_type": "code",
      "metadata": {
        "colab": {
          "base_uri": "https://localhost:8080/"
        },
        "id": "8WdMHPXnpJj5",
        "outputId": "f0ca6532-b4b7-423f-fd90-34cc9fac2dc4"
      },
      "source": [
        "algo = SVD()\r\n",
        "\r\n",
        "for trainset, testset in kf.split(data):\r\n",
        "    algo.fit(trainset)\r\n",
        "    predictions = algo.test(testset)\r\n",
        "    accuracy.rmse(predictions, verbose=True)"
      ],
      "execution_count": 11,
      "outputs": [
        {
          "output_type": "stream",
          "text": [
            "RMSE: 0.8881\n",
            "RMSE: 0.8810\n",
            "RMSE: 0.8799\n",
            "RMSE: 0.8839\n",
            "RMSE: 0.8762\n"
          ],
          "name": "stdout"
        }
      ]
    },
    {
      "cell_type": "markdown",
      "metadata": {
        "id": "o11NVV9jtDY-"
      },
      "source": [
        "С SVD получили не самый лучший RMSE, так что пробуем другой вариант."
      ]
    },
    {
      "cell_type": "markdown",
      "metadata": {
        "id": "JQHCVccxtLsd"
      },
      "source": [
        "**Пробуем KNN**"
      ]
    },
    {
      "cell_type": "code",
      "metadata": {
        "colab": {
          "base_uri": "https://localhost:8080/"
        },
        "id": "0VfXeQUHpJrj",
        "outputId": "e86e5f5c-1a03-42c7-a844-d144f2bac876"
      },
      "source": [
        "algo = KNNBaseline(k=30, sim_options={'name': 'pearson_baseline', 'user_based': False})\r\n",
        "\r\n",
        "accuracy_n = []\r\n",
        "n = 0\r\n",
        "for trainset, testset in kf.split(data):\r\n",
        "    algo.fit(trainset)\r\n",
        "    predictions = algo.test(testset, verbose=False)\r\n",
        "    n += 1\r\n",
        "    accuracy_n.append(accuracy.rmse(predictions, verbose=False))\r\n",
        "    print('RMSE: ', accuracy.rmse(predictions, verbose=False))"
      ],
      "execution_count": 13,
      "outputs": [
        {
          "output_type": "stream",
          "text": [
            "Estimating biases using als...\n",
            "Computing the pearson_baseline similarity matrix...\n",
            "Done computing similarity matrix.\n",
            "RMSE:  0.8662551627268441\n",
            "Estimating biases using als...\n",
            "Computing the pearson_baseline similarity matrix...\n",
            "Done computing similarity matrix.\n",
            "RMSE:  0.8714965830177839\n",
            "Estimating biases using als...\n",
            "Computing the pearson_baseline similarity matrix...\n",
            "Done computing similarity matrix.\n",
            "RMSE:  0.8698431593831857\n",
            "Estimating biases using als...\n",
            "Computing the pearson_baseline similarity matrix...\n",
            "Done computing similarity matrix.\n",
            "RMSE:  0.8633030356405679\n",
            "Estimating biases using als...\n",
            "Computing the pearson_baseline similarity matrix...\n",
            "Done computing similarity matrix.\n",
            "RMSE:  0.8588901425415719\n"
          ],
          "name": "stdout"
        }
      ]
    },
    {
      "cell_type": "markdown",
      "metadata": {
        "id": "iYsFNenkuAtK"
      },
      "source": [
        "KNN показал себя лучше и мы получили необходимые значения."
      ]
    }
  ]
}