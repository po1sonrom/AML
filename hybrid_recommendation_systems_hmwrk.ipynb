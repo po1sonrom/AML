{
  "nbformat": 4,
  "nbformat_minor": 0,
  "metadata": {
    "colab": {
      "name": "hybrid recommendation systems_hmwrk.ipynb",
      "provenance": [],
      "toc_visible": true,
      "authorship_tag": "ABX9TyMTdDZb3ZO/BmOECugfg9LJ"
    },
    "kernelspec": {
      "name": "python3",
      "display_name": "Python 3"
    },
    "widgets": {
      "application/vnd.jupyter.widget-state+json": {
        "d1de6a9bb73740d69a1715937a9adf83": {
          "model_module": "@jupyter-widgets/controls",
          "model_name": "HBoxModel",
          "state": {
            "_view_name": "HBoxView",
            "_dom_classes": [],
            "_model_name": "HBoxModel",
            "_view_module": "@jupyter-widgets/controls",
            "_model_module_version": "1.5.0",
            "_view_count": null,
            "_view_module_version": "1.5.0",
            "box_style": "",
            "layout": "IPY_MODEL_9cc266be2c874a77966bc223fadad4f3",
            "_model_module": "@jupyter-widgets/controls",
            "children": [
              "IPY_MODEL_fb0da047bcc7419f9c6cc30e829cdce4",
              "IPY_MODEL_7695792bb8d84061b9da13b5e5e57a20"
            ]
          }
        },
        "9cc266be2c874a77966bc223fadad4f3": {
          "model_module": "@jupyter-widgets/base",
          "model_name": "LayoutModel",
          "state": {
            "_view_name": "LayoutView",
            "grid_template_rows": null,
            "right": null,
            "justify_content": null,
            "_view_module": "@jupyter-widgets/base",
            "overflow": null,
            "_model_module_version": "1.2.0",
            "_view_count": null,
            "flex_flow": null,
            "width": null,
            "min_width": null,
            "border": null,
            "align_items": null,
            "bottom": null,
            "_model_module": "@jupyter-widgets/base",
            "top": null,
            "grid_column": null,
            "overflow_y": null,
            "overflow_x": null,
            "grid_auto_flow": null,
            "grid_area": null,
            "grid_template_columns": null,
            "flex": null,
            "_model_name": "LayoutModel",
            "justify_items": null,
            "grid_row": null,
            "max_height": null,
            "align_content": null,
            "visibility": null,
            "align_self": null,
            "height": null,
            "min_height": null,
            "padding": null,
            "grid_auto_rows": null,
            "grid_gap": null,
            "max_width": null,
            "order": null,
            "_view_module_version": "1.2.0",
            "grid_template_areas": null,
            "object_position": null,
            "object_fit": null,
            "grid_auto_columns": null,
            "margin": null,
            "display": null,
            "left": null
          }
        },
        "fb0da047bcc7419f9c6cc30e829cdce4": {
          "model_module": "@jupyter-widgets/controls",
          "model_name": "FloatProgressModel",
          "state": {
            "_view_name": "ProgressView",
            "style": "IPY_MODEL_1c6246401351414e91235190d73b1d80",
            "_dom_classes": [],
            "description": "",
            "_model_name": "FloatProgressModel",
            "bar_style": "success",
            "max": 1,
            "_view_module": "@jupyter-widgets/controls",
            "_model_module_version": "1.5.0",
            "value": 1,
            "_view_count": null,
            "_view_module_version": "1.5.0",
            "orientation": "horizontal",
            "min": 0,
            "description_tooltip": null,
            "_model_module": "@jupyter-widgets/controls",
            "layout": "IPY_MODEL_cd5616318a844f22bacfae8f1fd386f3"
          }
        },
        "7695792bb8d84061b9da13b5e5e57a20": {
          "model_module": "@jupyter-widgets/controls",
          "model_name": "HTMLModel",
          "state": {
            "_view_name": "HTMLView",
            "style": "IPY_MODEL_22bcd8e9f85f440485d6a88897d7d526",
            "_dom_classes": [],
            "description": "",
            "_model_name": "HTMLModel",
            "placeholder": "​",
            "_view_module": "@jupyter-widgets/controls",
            "_model_module_version": "1.5.0",
            "value": " 9742/? [00:01&lt;00:00, 8927.68it/s]",
            "_view_count": null,
            "_view_module_version": "1.5.0",
            "description_tooltip": null,
            "_model_module": "@jupyter-widgets/controls",
            "layout": "IPY_MODEL_96910cfebf034b25919459b9d5d4ef91"
          }
        },
        "1c6246401351414e91235190d73b1d80": {
          "model_module": "@jupyter-widgets/controls",
          "model_name": "ProgressStyleModel",
          "state": {
            "_view_name": "StyleView",
            "_model_name": "ProgressStyleModel",
            "description_width": "initial",
            "_view_module": "@jupyter-widgets/base",
            "_model_module_version": "1.5.0",
            "_view_count": null,
            "_view_module_version": "1.2.0",
            "bar_color": null,
            "_model_module": "@jupyter-widgets/controls"
          }
        },
        "cd5616318a844f22bacfae8f1fd386f3": {
          "model_module": "@jupyter-widgets/base",
          "model_name": "LayoutModel",
          "state": {
            "_view_name": "LayoutView",
            "grid_template_rows": null,
            "right": null,
            "justify_content": null,
            "_view_module": "@jupyter-widgets/base",
            "overflow": null,
            "_model_module_version": "1.2.0",
            "_view_count": null,
            "flex_flow": null,
            "width": null,
            "min_width": null,
            "border": null,
            "align_items": null,
            "bottom": null,
            "_model_module": "@jupyter-widgets/base",
            "top": null,
            "grid_column": null,
            "overflow_y": null,
            "overflow_x": null,
            "grid_auto_flow": null,
            "grid_area": null,
            "grid_template_columns": null,
            "flex": null,
            "_model_name": "LayoutModel",
            "justify_items": null,
            "grid_row": null,
            "max_height": null,
            "align_content": null,
            "visibility": null,
            "align_self": null,
            "height": null,
            "min_height": null,
            "padding": null,
            "grid_auto_rows": null,
            "grid_gap": null,
            "max_width": null,
            "order": null,
            "_view_module_version": "1.2.0",
            "grid_template_areas": null,
            "object_position": null,
            "object_fit": null,
            "grid_auto_columns": null,
            "margin": null,
            "display": null,
            "left": null
          }
        },
        "22bcd8e9f85f440485d6a88897d7d526": {
          "model_module": "@jupyter-widgets/controls",
          "model_name": "DescriptionStyleModel",
          "state": {
            "_view_name": "StyleView",
            "_model_name": "DescriptionStyleModel",
            "description_width": "",
            "_view_module": "@jupyter-widgets/base",
            "_model_module_version": "1.5.0",
            "_view_count": null,
            "_view_module_version": "1.2.0",
            "_model_module": "@jupyter-widgets/controls"
          }
        },
        "96910cfebf034b25919459b9d5d4ef91": {
          "model_module": "@jupyter-widgets/base",
          "model_name": "LayoutModel",
          "state": {
            "_view_name": "LayoutView",
            "grid_template_rows": null,
            "right": null,
            "justify_content": null,
            "_view_module": "@jupyter-widgets/base",
            "overflow": null,
            "_model_module_version": "1.2.0",
            "_view_count": null,
            "flex_flow": null,
            "width": null,
            "min_width": null,
            "border": null,
            "align_items": null,
            "bottom": null,
            "_model_module": "@jupyter-widgets/base",
            "top": null,
            "grid_column": null,
            "overflow_y": null,
            "overflow_x": null,
            "grid_auto_flow": null,
            "grid_area": null,
            "grid_template_columns": null,
            "flex": null,
            "_model_name": "LayoutModel",
            "justify_items": null,
            "grid_row": null,
            "max_height": null,
            "align_content": null,
            "visibility": null,
            "align_self": null,
            "height": null,
            "min_height": null,
            "padding": null,
            "grid_auto_rows": null,
            "grid_gap": null,
            "max_width": null,
            "order": null,
            "_view_module_version": "1.2.0",
            "grid_template_areas": null,
            "object_position": null,
            "object_fit": null,
            "grid_auto_columns": null,
            "margin": null,
            "display": null,
            "left": null
          }
        }
      }
    }
  },
  "cells": [
    {
      "cell_type": "markdown",
      "metadata": {
        "id": "NffIuZI20sK4"
      },
      "source": [
        "# Домашняя работа\r\n",
        "### Тема: Гибридные рекомендательные системы"
      ]
    },
    {
      "cell_type": "code",
      "metadata": {
        "colab": {
          "base_uri": "https://localhost:8080/"
        },
        "id": "BFdBBKQo1OL8",
        "outputId": "1912a581-9206-49c4-925a-12c9b460e68f"
      },
      "source": [
        "!pip install surprise"
      ],
      "execution_count": 1,
      "outputs": [
        {
          "output_type": "stream",
          "text": [
            "Requirement already satisfied: surprise in /usr/local/lib/python3.6/dist-packages (0.1)\n",
            "Requirement already satisfied: scikit-surprise in /usr/local/lib/python3.6/dist-packages (from surprise) (1.1.1)\n",
            "Requirement already satisfied: scipy>=1.0.0 in /usr/local/lib/python3.6/dist-packages (from scikit-surprise->surprise) (1.4.1)\n",
            "Requirement already satisfied: numpy>=1.11.2 in /usr/local/lib/python3.6/dist-packages (from scikit-surprise->surprise) (1.19.5)\n",
            "Requirement already satisfied: six>=1.10.0 in /usr/local/lib/python3.6/dist-packages (from scikit-surprise->surprise) (1.15.0)\n",
            "Requirement already satisfied: joblib>=0.11 in /usr/local/lib/python3.6/dist-packages (from scikit-surprise->surprise) (1.0.0)\n"
          ],
          "name": "stdout"
        }
      ]
    },
    {
      "cell_type": "code",
      "metadata": {
        "id": "FZTB-jzj0hqj"
      },
      "source": [
        "from surprise import SVD, SVDpp, Dataset, accuracy, Reader\r\n",
        "from surprise.model_selection import train_test_split\r\n",
        "\r\n",
        "from tqdm import tqdm_notebook\r\n",
        "\r\n",
        "from sklearn.feature_extraction.text import TfidfTransformer, CountVectorizer\r\n",
        "from sklearn.neighbors import NearestNeighbors\r\n",
        "\r\n",
        "import pandas as pd\r\n",
        "import numpy as np"
      ],
      "execution_count": 2,
      "outputs": []
    },
    {
      "cell_type": "code",
      "metadata": {
        "id": "20hUCqcb6Nhs"
      },
      "source": [
        "movies = pd.read_csv('movies.csv')\r\n",
        "ratings = pd.read_csv('ratings.csv')"
      ],
      "execution_count": 3,
      "outputs": []
    },
    {
      "cell_type": "code",
      "metadata": {
        "id": "6LWHm-OC6New"
      },
      "source": [
        "movies_with_ratings = movies.join(ratings.set_index('movieId'), on='movieId').reset_index(drop=True)\r\n",
        "movies_with_ratings.dropna(inplace=True)"
      ],
      "execution_count": 4,
      "outputs": []
    },
    {
      "cell_type": "code",
      "metadata": {
        "colab": {
          "base_uri": "https://localhost:8080/",
          "height": 197
        },
        "id": "cvvj_uMq6Nbp",
        "outputId": "cad40aa5-8fbc-4f21-d6b0-045ffa2c37d8"
      },
      "source": [
        "movies_with_ratings.head()"
      ],
      "execution_count": 5,
      "outputs": [
        {
          "output_type": "execute_result",
          "data": {
            "text/html": [
              "<div>\n",
              "<style scoped>\n",
              "    .dataframe tbody tr th:only-of-type {\n",
              "        vertical-align: middle;\n",
              "    }\n",
              "\n",
              "    .dataframe tbody tr th {\n",
              "        vertical-align: top;\n",
              "    }\n",
              "\n",
              "    .dataframe thead th {\n",
              "        text-align: right;\n",
              "    }\n",
              "</style>\n",
              "<table border=\"1\" class=\"dataframe\">\n",
              "  <thead>\n",
              "    <tr style=\"text-align: right;\">\n",
              "      <th></th>\n",
              "      <th>movieId</th>\n",
              "      <th>title</th>\n",
              "      <th>genres</th>\n",
              "      <th>userId</th>\n",
              "      <th>rating</th>\n",
              "      <th>timestamp</th>\n",
              "    </tr>\n",
              "  </thead>\n",
              "  <tbody>\n",
              "    <tr>\n",
              "      <th>0</th>\n",
              "      <td>1</td>\n",
              "      <td>Toy Story (1995)</td>\n",
              "      <td>Adventure|Animation|Children|Comedy|Fantasy</td>\n",
              "      <td>1.0</td>\n",
              "      <td>4.0</td>\n",
              "      <td>9.649827e+08</td>\n",
              "    </tr>\n",
              "    <tr>\n",
              "      <th>1</th>\n",
              "      <td>1</td>\n",
              "      <td>Toy Story (1995)</td>\n",
              "      <td>Adventure|Animation|Children|Comedy|Fantasy</td>\n",
              "      <td>5.0</td>\n",
              "      <td>4.0</td>\n",
              "      <td>8.474350e+08</td>\n",
              "    </tr>\n",
              "    <tr>\n",
              "      <th>2</th>\n",
              "      <td>1</td>\n",
              "      <td>Toy Story (1995)</td>\n",
              "      <td>Adventure|Animation|Children|Comedy|Fantasy</td>\n",
              "      <td>7.0</td>\n",
              "      <td>4.5</td>\n",
              "      <td>1.106636e+09</td>\n",
              "    </tr>\n",
              "    <tr>\n",
              "      <th>3</th>\n",
              "      <td>1</td>\n",
              "      <td>Toy Story (1995)</td>\n",
              "      <td>Adventure|Animation|Children|Comedy|Fantasy</td>\n",
              "      <td>15.0</td>\n",
              "      <td>2.5</td>\n",
              "      <td>1.510578e+09</td>\n",
              "    </tr>\n",
              "    <tr>\n",
              "      <th>4</th>\n",
              "      <td>1</td>\n",
              "      <td>Toy Story (1995)</td>\n",
              "      <td>Adventure|Animation|Children|Comedy|Fantasy</td>\n",
              "      <td>17.0</td>\n",
              "      <td>4.5</td>\n",
              "      <td>1.305696e+09</td>\n",
              "    </tr>\n",
              "  </tbody>\n",
              "</table>\n",
              "</div>"
            ],
            "text/plain": [
              "   movieId             title  ... rating     timestamp\n",
              "0        1  Toy Story (1995)  ...    4.0  9.649827e+08\n",
              "1        1  Toy Story (1995)  ...    4.0  8.474350e+08\n",
              "2        1  Toy Story (1995)  ...    4.5  1.106636e+09\n",
              "3        1  Toy Story (1995)  ...    2.5  1.510578e+09\n",
              "4        1  Toy Story (1995)  ...    4.5  1.305696e+09\n",
              "\n",
              "[5 rows x 6 columns]"
            ]
          },
          "metadata": {
            "tags": []
          },
          "execution_count": 5
        }
      ]
    },
    {
      "cell_type": "code",
      "metadata": {
        "id": "s9H0KiGC6NYz"
      },
      "source": [
        "dataset = pd.DataFrame({\r\n",
        "    'uid': movies_with_ratings.userId,\r\n",
        "    'iid': movies_with_ratings.title,\r\n",
        "    'rating': movies_with_ratings.rating\r\n",
        "})"
      ],
      "execution_count": 6,
      "outputs": []
    },
    {
      "cell_type": "code",
      "metadata": {
        "id": "TAJXzG7R6NVN"
      },
      "source": [
        "reader = Reader(rating_scale=(0.5, 5.0))\r\n",
        "data = Dataset.load_from_df(dataset, reader)"
      ],
      "execution_count": 7,
      "outputs": []
    },
    {
      "cell_type": "code",
      "metadata": {
        "id": "sZbw8XjS6NRW"
      },
      "source": [
        "trainset, testset = train_test_split(data, test_size=.15, random_state=42)"
      ],
      "execution_count": 8,
      "outputs": []
    },
    {
      "cell_type": "code",
      "metadata": {
        "colab": {
          "base_uri": "https://localhost:8080/"
        },
        "id": "7DNBVoap6NOJ",
        "outputId": "5a84f1e8-ffaa-4b9c-f031-d837248ca481"
      },
      "source": [
        "%%time\r\n",
        "algo = SVD(n_factors=20, n_epochs=20)\r\n",
        "algo.fit(trainset)"
      ],
      "execution_count": 9,
      "outputs": [
        {
          "output_type": "stream",
          "text": [
            "CPU times: user 2.45 s, sys: 1.61 ms, total: 2.45 s\n",
            "Wall time: 2.46 s\n"
          ],
          "name": "stdout"
        }
      ]
    },
    {
      "cell_type": "code",
      "metadata": {
        "id": "agKFnT4g6NLL"
      },
      "source": [
        "test_pred = algo.test(testset)"
      ],
      "execution_count": 10,
      "outputs": []
    },
    {
      "cell_type": "code",
      "metadata": {
        "colab": {
          "base_uri": "https://localhost:8080/"
        },
        "id": "j883uJQ36NIK",
        "outputId": "b3903315-b35c-4437-d4ab-9fa513e62c82"
      },
      "source": [
        "accuracy.rmse(test_pred, verbose=True)"
      ],
      "execution_count": 11,
      "outputs": [
        {
          "output_type": "stream",
          "text": [
            "RMSE: 0.8692\n"
          ],
          "name": "stdout"
        },
        {
          "output_type": "execute_result",
          "data": {
            "text/plain": [
              "0.8692098416091573"
            ]
          },
          "metadata": {
            "tags": []
          },
          "execution_count": 11
        }
      ]
    },
    {
      "cell_type": "code",
      "metadata": {
        "colab": {
          "base_uri": "https://localhost:8080/"
        },
        "id": "AZ5ViUvs6NFT",
        "outputId": "b3bb89b6-c9f3-44c8-9972-a2d221fa4b3b"
      },
      "source": [
        "algo.predict(uid=2.0, iid='Mortal Kombat (1995)').est"
      ],
      "execution_count": 12,
      "outputs": [
        {
          "output_type": "execute_result",
          "data": {
            "text/plain": [
              "2.443750972949918"
            ]
          },
          "metadata": {
            "tags": []
          },
          "execution_count": 12
        }
      ]
    },
    {
      "cell_type": "code",
      "metadata": {
        "id": "aTMOx15_6NCg"
      },
      "source": [
        "current_user_id = 2.0\r\n",
        "user_movies = movies_with_ratings[movies_with_ratings.userId == current_user_id].title.unique()\r\n",
        "\r\n",
        "scores = []\r\n",
        "titles = []\r\n",
        "\r\n",
        "for movie in movies_with_ratings.title.unique():\r\n",
        "    if movie in user_movies:\r\n",
        "        continue\r\n",
        "        \r\n",
        "    scores.append(algo.predict(uid=current_user_id, iid=movie).est)\r\n",
        "    titles.append(movie)"
      ],
      "execution_count": 13,
      "outputs": []
    },
    {
      "cell_type": "code",
      "metadata": {
        "colab": {
          "base_uri": "https://localhost:8080/"
        },
        "id": "ekY8N0bP6M_p",
        "outputId": "b7a79fb6-d1c9-430c-d6c0-9cd33f54fec5"
      },
      "source": [
        "scores[:10]"
      ],
      "execution_count": 14,
      "outputs": [
        {
          "output_type": "execute_result",
          "data": {
            "text/plain": [
              "[3.993322623304302,\n",
              " 3.4960700040534136,\n",
              " 3.153153481986765,\n",
              " 3.0001090784253814,\n",
              " 3.0602218162604826,\n",
              " 3.921739239986222,\n",
              " 3.317827146275872,\n",
              " 3.1358827669198623,\n",
              " 3.174364436568982,\n",
              " 3.5582748609497683]"
            ]
          },
          "metadata": {
            "tags": []
          },
          "execution_count": 14
        }
      ]
    },
    {
      "cell_type": "code",
      "metadata": {
        "id": "ZWFH0Qp66M8h"
      },
      "source": [
        "def change_string(s):\r\n",
        "    return ' '.join(s.replace(' ', '').replace('-', '').split('|'))"
      ],
      "execution_count": 15,
      "outputs": []
    },
    {
      "cell_type": "code",
      "metadata": {
        "id": "Tn-CNQLr6M5w"
      },
      "source": [
        "movie_genres = [change_string(g) for g in movies.genres.values]"
      ],
      "execution_count": 16,
      "outputs": []
    },
    {
      "cell_type": "markdown",
      "metadata": {
        "id": "YL2_F3F7pSfR"
      },
      "source": [
        "Проверка, как будут выводиться жанры"
      ]
    },
    {
      "cell_type": "code",
      "metadata": {
        "colab": {
          "base_uri": "https://localhost:8080/",
          "height": 35
        },
        "id": "YuWGR3m36M2h",
        "outputId": "66017e39-8d66-412a-dd28-663d4152aaa9"
      },
      "source": [
        "movie_genres[0]"
      ],
      "execution_count": 17,
      "outputs": [
        {
          "output_type": "execute_result",
          "data": {
            "application/vnd.google.colaboratory.intrinsic+json": {
              "type": "string"
            },
            "text/plain": [
              "'Adventure Animation Children Comedy Fantasy'"
            ]
          },
          "metadata": {
            "tags": []
          },
          "execution_count": 17
        }
      ]
    },
    {
      "cell_type": "code",
      "metadata": {
        "colab": {
          "base_uri": "https://localhost:8080/"
        },
        "id": "OHIOFDdk6Mzo",
        "outputId": "a57ab89d-d472-40b7-df34-23afdfc3921f"
      },
      "source": [
        "count_vect = CountVectorizer()\r\n",
        "X_train_counts = count_vect.fit_transform(movie_genres)\r\n",
        "\r\n",
        "tfidf_transformer = TfidfTransformer()\r\n",
        "X_train_tfidf = tfidf_transformer.fit_transform(X_train_counts)\r\n",
        "\r\n",
        "neigh = NearestNeighbors(n_neighbors=20, n_jobs=-1, metric='euclidean') \r\n",
        "neigh.fit(X_train_tfidf)"
      ],
      "execution_count": 18,
      "outputs": [
        {
          "output_type": "execute_result",
          "data": {
            "text/plain": [
              "NearestNeighbors(algorithm='auto', leaf_size=30, metric='euclidean',\n",
              "                 metric_params=None, n_jobs=-1, n_neighbors=20, p=2,\n",
              "                 radius=1.0)"
            ]
          },
          "metadata": {
            "tags": []
          },
          "execution_count": 18
        }
      ]
    },
    {
      "cell_type": "code",
      "metadata": {
        "id": "VZDHnQzH6MxA"
      },
      "source": [
        "test = change_string(\"Adventure|Comedy|Fantasy|Crime\")\r\n",
        "\r\n",
        "predict = count_vect.transform([test])\r\n",
        "X_tfidf2 = tfidf_transformer.transform(predict)\r\n",
        "\r\n",
        "res = neigh.kneighbors(X_tfidf2, return_distance=True)"
      ],
      "execution_count": 19,
      "outputs": []
    },
    {
      "cell_type": "code",
      "metadata": {
        "id": "Q3S8W-w_6MoL"
      },
      "source": [
        "movies_with_ratings.sort_values('timestamp', inplace=True)"
      ],
      "execution_count": 20,
      "outputs": []
    },
    {
      "cell_type": "code",
      "metadata": {
        "colab": {
          "base_uri": "https://localhost:8080/",
          "height": 197
        },
        "id": "2nf2DLZ66MlD",
        "outputId": "4c3fdbfb-40d2-46c8-ce3f-7062d53c9fc4"
      },
      "source": [
        "movies.head()"
      ],
      "execution_count": 21,
      "outputs": [
        {
          "output_type": "execute_result",
          "data": {
            "text/html": [
              "<div>\n",
              "<style scoped>\n",
              "    .dataframe tbody tr th:only-of-type {\n",
              "        vertical-align: middle;\n",
              "    }\n",
              "\n",
              "    .dataframe tbody tr th {\n",
              "        vertical-align: top;\n",
              "    }\n",
              "\n",
              "    .dataframe thead th {\n",
              "        text-align: right;\n",
              "    }\n",
              "</style>\n",
              "<table border=\"1\" class=\"dataframe\">\n",
              "  <thead>\n",
              "    <tr style=\"text-align: right;\">\n",
              "      <th></th>\n",
              "      <th>movieId</th>\n",
              "      <th>title</th>\n",
              "      <th>genres</th>\n",
              "    </tr>\n",
              "  </thead>\n",
              "  <tbody>\n",
              "    <tr>\n",
              "      <th>0</th>\n",
              "      <td>1</td>\n",
              "      <td>Toy Story (1995)</td>\n",
              "      <td>Adventure|Animation|Children|Comedy|Fantasy</td>\n",
              "    </tr>\n",
              "    <tr>\n",
              "      <th>1</th>\n",
              "      <td>2</td>\n",
              "      <td>Jumanji (1995)</td>\n",
              "      <td>Adventure|Children|Fantasy</td>\n",
              "    </tr>\n",
              "    <tr>\n",
              "      <th>2</th>\n",
              "      <td>3</td>\n",
              "      <td>Grumpier Old Men (1995)</td>\n",
              "      <td>Comedy|Romance</td>\n",
              "    </tr>\n",
              "    <tr>\n",
              "      <th>3</th>\n",
              "      <td>4</td>\n",
              "      <td>Waiting to Exhale (1995)</td>\n",
              "      <td>Comedy|Drama|Romance</td>\n",
              "    </tr>\n",
              "    <tr>\n",
              "      <th>4</th>\n",
              "      <td>5</td>\n",
              "      <td>Father of the Bride Part II (1995)</td>\n",
              "      <td>Comedy</td>\n",
              "    </tr>\n",
              "  </tbody>\n",
              "</table>\n",
              "</div>"
            ],
            "text/plain": [
              "   movieId  ...                                       genres\n",
              "0        1  ...  Adventure|Animation|Children|Comedy|Fantasy\n",
              "1        2  ...                   Adventure|Children|Fantasy\n",
              "2        3  ...                               Comedy|Romance\n",
              "3        4  ...                         Comedy|Drama|Romance\n",
              "4        5  ...                                       Comedy\n",
              "\n",
              "[5 rows x 3 columns]"
            ]
          },
          "metadata": {
            "tags": []
          },
          "execution_count": 21
        }
      ]
    },
    {
      "cell_type": "code",
      "metadata": {
        "colab": {
          "base_uri": "https://localhost:8080/",
          "height": 120,
          "referenced_widgets": [
            "d1de6a9bb73740d69a1715937a9adf83",
            "9cc266be2c874a77966bc223fadad4f3",
            "fb0da047bcc7419f9c6cc30e829cdce4",
            "7695792bb8d84061b9da13b5e5e57a20",
            "1c6246401351414e91235190d73b1d80",
            "cd5616318a844f22bacfae8f1fd386f3",
            "22bcd8e9f85f440485d6a88897d7d526",
            "96910cfebf034b25919459b9d5d4ef91"
          ]
        },
        "id": "1uPwHvXo6MiY",
        "outputId": "c1b1de71-8bab-4c93-e09e-625af38f161b"
      },
      "source": [
        "title_genres = {}\r\n",
        "\r\n",
        "for index, row in tqdm_notebook(movies.iterrows()):\r\n",
        "    title_genres[row.title] = row.genres"
      ],
      "execution_count": 22,
      "outputs": [
        {
          "output_type": "stream",
          "text": [
            "/usr/local/lib/python3.6/dist-packages/ipykernel_launcher.py:3: TqdmDeprecationWarning: This function will be removed in tqdm==5.0.0\n",
            "Please use `tqdm.notebook.tqdm` instead of `tqdm.tqdm_notebook`\n",
            "  This is separate from the ipykernel package so we can avoid doing imports until\n"
          ],
          "name": "stderr"
        },
        {
          "output_type": "display_data",
          "data": {
            "application/vnd.jupyter.widget-view+json": {
              "model_id": "d1de6a9bb73740d69a1715937a9adf83",
              "version_minor": 0,
              "version_major": 2
            },
            "text/plain": [
              "HBox(children=(FloatProgress(value=1.0, bar_style='info', max=1.0), HTML(value='')))"
            ]
          },
          "metadata": {
            "tags": []
          }
        },
        {
          "output_type": "stream",
          "text": [
            "\n"
          ],
          "name": "stdout"
        }
      ]
    },
    {
      "cell_type": "markdown",
      "metadata": {
        "id": "qU8Id99M9XHb"
      },
      "source": [
        "**NearestNeighbors**"
      ]
    },
    {
      "cell_type": "code",
      "metadata": {
        "id": "O53kmbNB6Mfj"
      },
      "source": [
        "def recommend_for_user(user_id):\r\n",
        "    current_user_id = user_id\r\n",
        "    df_user = movies_with_ratings.pivot_table(index='userId', columns='title', values='rating', aggfunc='count')\r\n",
        "    \r\n",
        "    # сосздаём фичи для knn\r\n",
        "    df_user.fillna(0, inplace=True)\r\n",
        "    neigh = NearestNeighbors(n_neighbors=2)\r\n",
        "    neigh.fit(df_user) \r\n",
        "    NearestNeighbors(n_neighbors=2) # берём топ 2 максимально похожим\r\n",
        "    num = neigh.kneighbors(df_user[df_user.index==user_id])[1][0][1] # первым будет он сам, поэтому берём второго\r\n",
        "    film = df_user[df_user.index==num].T     \r\n",
        "    film = film[film[num]!=0]\r\n",
        "    movies_to_score = list(film.reset_index()['title']) # и теперь оцениваем только его фильмы\r\n",
        "\r\n",
        "    scores = []\r\n",
        "    titles = []\r\n",
        "\r\n",
        "    for movie in movies_to_score:\r\n",
        "        if movie in user_movies:\r\n",
        "            continue\r\n",
        "\r\n",
        "        scores.append(algo.predict(uid=current_user_id, iid=movie).est)\r\n",
        "        titles.append(movie)\r\n",
        "        \r\n",
        "    \r\n",
        "    best_indexes = np.argsort(scores)[-10:]\r\n",
        "    for i in reversed(best_indexes):\r\n",
        "        print(titles[i], scores[i])"
      ],
      "execution_count": 23,
      "outputs": []
    },
    {
      "cell_type": "markdown",
      "metadata": {
        "id": "PRrgF6Zrp2Rl"
      },
      "source": [
        "Рекомендации для пользователя"
      ]
    },
    {
      "cell_type": "code",
      "metadata": {
        "colab": {
          "base_uri": "https://localhost:8080/"
        },
        "id": "qZfTIXqQ6MdA",
        "outputId": "0ff8abad-c3a2-4b5c-bcfb-ab3ba4790fc1"
      },
      "source": [
        "recommend_for_user(555)"
      ],
      "execution_count": 24,
      "outputs": [
        {
          "output_type": "stream",
          "text": [
            "Amelie (Fabuleux destin d'Amélie Poulain, Le) (2001) 4.313364694777221\n",
            "Forrest Gump (1994) 4.262876200293267\n",
            "Maltese Falcon, The (1941) 4.236907740891987\n",
            "Princess Bride, The (1987) 4.222048479899918\n",
            "Sound of Music, The (1965) 4.221574591412012\n",
            "Harry Potter and the Prisoner of Azkaban (2004) 4.158600197247589\n",
            "Donnie Darko (2001) 4.149017127519765\n",
            "Fight Club (1999) 4.144437461482381\n",
            "Star Wars: Episode IV - A New Hope (1977) 4.141548014873391\n",
            "Eternal Sunshine of the Spotless Mind (2004) 4.13482710982901\n"
          ],
          "name": "stdout"
        }
      ]
    }
  ]
}